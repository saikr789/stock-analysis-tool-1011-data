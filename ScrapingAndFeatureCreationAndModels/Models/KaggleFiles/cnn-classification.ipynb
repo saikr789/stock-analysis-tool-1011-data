{
 "cells": [
  {
   "cell_type": "code",
   "execution_count": null,
   "metadata": {
    "_cell_guid": "b1076dfc-b9ad-4769-8c92-a6c4dae69d19",
    "_uuid": "8f2839f25d086af736a60e9eeb907d3b93b6e0e5",
    "execution": {
     "iopub.execute_input": "2021-03-22T21:07:52.964802Z",
     "iopub.status.busy": "2021-03-22T21:07:52.964074Z",
     "iopub.status.idle": "2021-03-22T21:07:53.017789Z",
     "shell.execute_reply": "2021-03-22T21:07:53.017040Z"
    },
    "papermill": {
     "duration": 0.069421,
     "end_time": "2021-03-22T21:07:53.018019",
     "exception": false,
     "start_time": "2021-03-22T21:07:52.948598",
     "status": "completed"
    },
    "tags": []
   },
   "outputs": [],
   "source": [
    "# This Python 3 environment comes with many helpful analytics libraries installed\n",
    "# It is defined by the kaggle/python Docker image: https://github.com/kaggle/docker-python\n",
    "# For example, here's several helpful packages to load\n",
    "\n",
    "import numpy as np # linear algebra\n",
    "import pandas as pd # data processing, CSV file I/O (e.g. pd.read_csv)\n",
    "\n",
    "# Input data files are available in the read-only \"../input/\" directory\n",
    "# For example, running this (by clicking run or pressing Shift+Enter) will list all files under the input directory\n",
    "\n",
    "import os\n",
    "for dirname, _, filenames in os.walk('/kaggle/input'):\n",
    "    for filename in filenames:\n",
    "        print(os.path.join(dirname, filename))\n",
    "\n",
    "# You can write up to 20GB to the current directory (/kaggle/working/) that gets preserved as output when you create a version using \"Save & Run All\" \n",
    "# You can also write temporary files to /kaggle/temp/, but they won't be saved outside of the current session"
   ]
  },
  {
   "cell_type": "code",
   "execution_count": null,
   "metadata": {
    "execution": {
     "iopub.execute_input": "2021-03-22T21:07:53.043828Z",
     "iopub.status.busy": "2021-03-22T21:07:53.043178Z",
     "iopub.status.idle": "2021-03-22T21:08:00.930821Z",
     "shell.execute_reply": "2021-03-22T21:08:00.931303Z"
    },
    "papermill": {
     "duration": 7.903017,
     "end_time": "2021-03-22T21:08:00.931494",
     "exception": false,
     "start_time": "2021-03-22T21:07:53.028477",
     "status": "completed"
    },
    "tags": []
   },
   "outputs": [],
   "source": [
    "import os\n",
    "os.environ['TF_CPP_MIN_LOG_LEVEL'] = '3'\n",
    "from sklearn.model_selection import train_test_split\n",
    "import numpy as np\n",
    "import pandas as pd\n",
    "from sklearn import metrics\n",
    "from keras.models import Sequential\n",
    "from keras.layers import Dense, Conv1D, Flatten\n",
    "from keras.layers import LSTM\n",
    "from keras.layers import Dropout\n",
    "from keras.backend import sigmoid\n",
    "from sklearn.metrics import confusion_matrix\n",
    "from keras.wrappers.scikit_learn import KerasClassifier\n",
    "from math import sqrt\n",
    "from multiprocessing.pool import ThreadPool\n",
    "import time\n",
    "from sklearn.model_selection import GridSearchCV\n",
    "import multiprocessing\n",
    "import traceback\n",
    "import tensorflow as tf\n",
    "from sklearn.metrics import precision_score, make_scorer\n",
    "import prettytable\n"
   ]
  },
  {
   "cell_type": "code",
   "execution_count": null,
   "metadata": {
    "execution": {
     "iopub.execute_input": "2021-03-22T21:08:00.955130Z",
     "iopub.status.busy": "2021-03-22T21:08:00.953933Z",
     "iopub.status.idle": "2021-03-22T21:08:00.957986Z",
     "shell.execute_reply": "2021-03-22T21:08:00.958496Z"
    },
    "papermill": {
     "duration": 0.01692,
     "end_time": "2021-03-22T21:08:00.958702",
     "exception": false,
     "start_time": "2021-03-22T21:08:00.941782",
     "status": "completed"
    },
    "tags": []
   },
   "outputs": [],
   "source": [
    "import warnings; \n",
    "warnings.filterwarnings(\"ignore\")"
   ]
  },
  {
   "cell_type": "code",
   "execution_count": null,
   "metadata": {
    "execution": {
     "iopub.execute_input": "2021-03-22T21:08:00.982454Z",
     "iopub.status.busy": "2021-03-22T21:08:00.981721Z",
     "iopub.status.idle": "2021-03-22T21:08:00.988657Z",
     "shell.execute_reply": "2021-03-22T21:08:00.989125Z"
    },
    "papermill": {
     "duration": 0.020442,
     "end_time": "2021-03-22T21:08:00.989334",
     "exception": false,
     "start_time": "2021-03-22T21:08:00.968892",
     "status": "completed"
    },
    "tags": []
   },
   "outputs": [],
   "source": [
    "def pre_process_data(data,null_threshold):\n",
    "    \"\"\"\n",
    "    Drops Date and Unix Date columns from the data.\n",
    "    Drops the columns which has null values more than specified null_threshold.\n",
    "    Replaces infinite values with NAN.\n",
    "    Drops the rows which has null values.\n",
    "\n",
    "    Parameters\n",
    "    ----------\n",
    "    data : dataframe\n",
    "\n",
    "    null_threshold : numeric\n",
    "        numeric value describing the amount of null values that can be present.\n",
    "\n",
    "    Returns\n",
    "    -------\n",
    "    data : dataframe\n",
    "        an updated dataframe after performing all the opertaions.\n",
    "    \"\"\"\n",
    "    \n",
    "    data.drop(columns=['Unix Date','Date'],axis=1,inplace=True)\n",
    "    total = data.shape[0]\n",
    "    for col in data.columns:\n",
    "        if null_threshold * total / 100 < data[col].isnull().sum():\n",
    "            data.drop(columns=[col],axis=1,inplace=True)\n",
    "    data.replace([np.inf, -np.inf], np.nan, inplace=True)\n",
    "    data = data.apply(pd.to_numeric,errors='coerce')\n",
    "    data.dropna(axis=0,inplace=True)\n",
    "    return data"
   ]
  },
  {
   "cell_type": "code",
   "execution_count": null,
   "metadata": {
    "execution": {
     "iopub.execute_input": "2021-03-22T21:08:01.013072Z",
     "iopub.status.busy": "2021-03-22T21:08:01.012430Z",
     "iopub.status.idle": "2021-03-22T21:08:01.017749Z",
     "shell.execute_reply": "2021-03-22T21:08:01.018185Z"
    },
    "papermill": {
     "duration": 0.019259,
     "end_time": "2021-03-22T21:08:01.018398",
     "exception": false,
     "start_time": "2021-03-22T21:08:00.999139",
     "status": "completed"
    },
    "tags": []
   },
   "outputs": [],
   "source": [
    "def dependent_column(data,column):\n",
    "    \"\"\"\n",
    "    Removes all the Next Day columns.\n",
    "    Removes all the non Growth Rate Columns (GR)\n",
    "    add the predictor column to list of columns.\n",
    "\n",
    "    Parameters\n",
    "    ----------\n",
    "    data : dataframe\n",
    "\n",
    "    column : string\n",
    "        name of the predictor column \n",
    "\n",
    "    Returns\n",
    "    -------\n",
    "    data : dataframe\n",
    "        an updated dataframe after performing all the opertaions.\n",
    "    column : string\n",
    "        name of the predictor column\n",
    "    \"\"\"\n",
    "    cols = [col for col in data.columns if \"next\" not in col.lower() and col.lower().endswith(\"gr\")]\n",
    "    cols.append(column)\n",
    "    data = data[cols]\n",
    "    return (data,column)"
   ]
  },
  {
   "cell_type": "code",
   "execution_count": null,
   "metadata": {
    "execution": {
     "iopub.execute_input": "2021-03-22T21:08:01.040785Z",
     "iopub.status.busy": "2021-03-22T21:08:01.039976Z",
     "iopub.status.idle": "2021-03-22T21:08:01.046850Z",
     "shell.execute_reply": "2021-03-22T21:08:01.046171Z"
    },
    "papermill": {
     "duration": 0.019334,
     "end_time": "2021-03-22T21:08:01.046994",
     "exception": false,
     "start_time": "2021-03-22T21:08:01.027660",
     "status": "completed"
    },
    "tags": []
   },
   "outputs": [],
   "source": [
    "def reshape_data(x_train, x_test, y_train, y_test):\n",
    "    x_train = np.array(x_train)\n",
    "    x_train = np.reshape(x_train, (x_train.shape[0], x_train.shape[1],1))\n",
    "    x_test = np.array(x_test)\n",
    "    x_test = np.reshape(x_test, (x_test.shape[0],x_test.shape[1],1))\n",
    "    y_test = np.array(y_test)\n",
    "    y_test = np.reshape(y_test, (y_test.shape[0],1))\n",
    "\n",
    "    return (x_train, x_test, y_train, y_test)"
   ]
  },
  {
   "cell_type": "code",
   "execution_count": null,
   "metadata": {
    "execution": {
     "iopub.execute_input": "2021-03-22T21:08:01.073818Z",
     "iopub.status.busy": "2021-03-22T21:08:01.073005Z",
     "iopub.status.idle": "2021-03-22T21:08:01.076719Z",
     "shell.execute_reply": "2021-03-22T21:08:01.076038Z"
    },
    "papermill": {
     "duration": 0.01918,
     "end_time": "2021-03-22T21:08:01.076877",
     "exception": false,
     "start_time": "2021-03-22T21:08:01.057697",
     "status": "completed"
    },
    "tags": []
   },
   "outputs": [],
   "source": [
    "def error_metrics(y_true, y_pred):\n",
    "    rmse = sqrt(metrics.mean_squared_error(y_true, y_pred))\n",
    "    mae = metrics.mean_absolute_error(y_true, y_pred)\n",
    "    mse = metrics.mean_squared_error(y_true, y_pred)\n",
    "    return {\"root_mean_squared_error\":rmse,\"mean_absolute_error\":mae,\"mean_squared_error\":mse}"
   ]
  },
  {
   "cell_type": "code",
   "execution_count": null,
   "metadata": {
    "execution": {
     "iopub.execute_input": "2021-03-22T21:08:01.099901Z",
     "iopub.status.busy": "2021-03-22T21:08:01.099162Z",
     "iopub.status.idle": "2021-03-22T21:08:01.105917Z",
     "shell.execute_reply": "2021-03-22T21:08:01.105077Z"
    },
    "papermill": {
     "duration": 0.019369,
     "end_time": "2021-03-22T21:08:01.106082",
     "exception": false,
     "start_time": "2021-03-22T21:08:01.086713",
     "status": "completed"
    },
    "tags": []
   },
   "outputs": [],
   "source": [
    "def create_confusion_matrix(y_pred,y_true):\n",
    "    cm = confusion_matrix(y_true,y_pred)\n",
    "    accuracy = metrics.accuracy_score(y_true,y_pred)\n",
    "    precision = metrics.precision_score(y_true,y_pred)\n",
    "    recall = metrics.recall_score(y_true,y_pred)\n",
    "    f1_score = metrics.f1_score(y_true,y_pred)\n",
    "    return {\"accuracy\":accuracy,\"precision\":precision,\"recall\":recall,\"f1_score\":f1_score,\"confusion matrix\":cm}"
   ]
  },
  {
   "cell_type": "code",
   "execution_count": null,
   "metadata": {
    "execution": {
     "iopub.execute_input": "2021-03-22T21:08:01.135728Z",
     "iopub.status.busy": "2021-03-22T21:08:01.134985Z",
     "iopub.status.idle": "2021-03-22T21:08:01.138001Z",
     "shell.execute_reply": "2021-03-22T21:08:01.138444Z"
    },
    "papermill": {
     "duration": 0.021792,
     "end_time": "2021-03-22T21:08:01.138618",
     "exception": false,
     "start_time": "2021-03-22T21:08:01.116826",
     "status": "completed"
    },
    "tags": []
   },
   "outputs": [],
   "source": [
    "from keras import backend as K\n",
    "def f1_score(y_true, y_pred):\n",
    "    def recall(y_true, y_pred):\n",
    "        true_positives = K.sum(K.round(K.clip(y_true * y_pred, 0, 1)))\n",
    "        possible_positives = K.sum(K.round(K.clip(y_true, 0, 1)))\n",
    "        recall = true_positives / (possible_positives + K.epsilon())\n",
    "        return recall\n",
    "\n",
    "    def precision(y_true, y_pred):\n",
    "        true_positives = K.sum(K.round(K.clip(y_true * y_pred, 0, 1)))\n",
    "        predicted_positives = K.sum(K.round(K.clip(y_pred, 0, 1)))\n",
    "        precision = true_positives / (predicted_positives + K.epsilon())\n",
    "        return precision\n",
    "    precision = precision(y_true, y_pred)\n",
    "    recall = recall(y_true, y_pred)\n",
    "    return 2*((precision*recall)/(precision+recall+K.epsilon()))"
   ]
  },
  {
   "cell_type": "code",
   "execution_count": null,
   "metadata": {
    "execution": {
     "iopub.execute_input": "2021-03-22T21:08:01.166611Z",
     "iopub.status.busy": "2021-03-22T21:08:01.165880Z",
     "iopub.status.idle": "2021-03-22T21:08:01.168707Z",
     "shell.execute_reply": "2021-03-22T21:08:01.169133Z"
    },
    "papermill": {
     "duration": 0.02096,
     "end_time": "2021-03-22T21:08:01.169334",
     "exception": false,
     "start_time": "2021-03-22T21:08:01.148374",
     "status": "completed"
    },
    "tags": []
   },
   "outputs": [],
   "source": [
    "def best_params_cnn(X,Y):\n",
    "    \n",
    "    custom_scorer = make_scorer(metrics.f1_score, greater_is_better=True,pos_label = 1)\n",
    "    \n",
    "    model = KerasClassifier(build_fn = create_model_c,batch_size=32, epochs=10,input_shape = (X.shape[1],1),verbose=0) \n",
    "    \n",
    "    batch_size = [25,32,48,64,100]\n",
    "\n",
    "    epochs = [25,50,75,100]\n",
    "    param_grid = dict(epochs=epochs,batch_size=batch_size)   \n",
    "    \n",
    "    grid = GridSearchCV(estimator=model, param_grid=param_grid,n_jobs=-1,scoring = custom_scorer,verbose = 0)\n",
    "    grid_result = grid.fit(X,Y)\n",
    "    batch_size, epochs = grid_result.best_params_['batch_size'],grid_result.best_params_['epochs']\n",
    "    print(batch_size, epochs)\n",
    "    return batch_size, epochs"
   ]
  },
  {
   "cell_type": "code",
   "execution_count": null,
   "metadata": {
    "execution": {
     "iopub.execute_input": "2021-03-22T21:08:01.192833Z",
     "iopub.status.busy": "2021-03-22T21:08:01.191911Z",
     "iopub.status.idle": "2021-03-22T21:08:01.197874Z",
     "shell.execute_reply": "2021-03-22T21:08:01.198400Z"
    },
    "papermill": {
     "duration": 0.019538,
     "end_time": "2021-03-22T21:08:01.198587",
     "exception": false,
     "start_time": "2021-03-22T21:08:01.179049",
     "status": "completed"
    },
    "tags": []
   },
   "outputs": [],
   "source": [
    "def create_model_c(input_shape):\n",
    "    model = Sequential()\n",
    "    model.add(Conv1D(32, 1, activation=\"relu\", input_shape=input_shape))\n",
    "    model.add(Flatten())\n",
    "    model.add(Dense(32, activation=\"relu\"))\n",
    "    model.add(Dense(1,activation='softmax'))\n",
    "    model.compile(loss='binary_crossentropy', metrics=[f1_score], optimizer='adam')\n",
    "    return model"
   ]
  },
  {
   "cell_type": "code",
   "execution_count": null,
   "metadata": {
    "execution": {
     "iopub.execute_input": "2021-03-22T21:08:01.227733Z",
     "iopub.status.busy": "2021-03-22T21:08:01.226777Z",
     "iopub.status.idle": "2021-03-22T21:08:01.230071Z",
     "shell.execute_reply": "2021-03-22T21:08:01.229602Z"
    },
    "papermill": {
     "duration": 0.021937,
     "end_time": "2021-03-22T21:08:01.230230",
     "exception": false,
     "start_time": "2021-03-22T21:08:01.208293",
     "status": "completed"
    },
    "tags": []
   },
   "outputs": [],
   "source": [
    "def create_cnn_classification(df,column,epochs,batch_size,rate):\n",
    "    df[\"Target\"] = df[column].apply(lambda x : 1 if x >= rate else 0)\n",
    "    X = df.drop(columns=[\"Target\",column])\n",
    "    Y = df[\"Target\"]\n",
    "    x_train, x_test, y_train, y_test = train_test_split(X, Y, test_size=0.3,random_state = 0)\n",
    "    (x_train, x_test, y_train, y_test) = reshape_data(x_train, x_test, y_train, y_test)\n",
    "    \n",
    "    model = create_model_c((x_train.shape[1],1))\n",
    "    history = model.fit(x_train,y_train,epochs = epochs,batch_size = batch_size, validation_data = (x_test,y_test),shuffle = False,verbose=0)\n",
    "\n",
    "    y_pred = model.predict(x_test)\n",
    "    result = {}\n",
    "    error = error_metrics(y_test, y_pred)\n",
    "    confusion = create_confusion_matrix(y_test,y_pred)\n",
    "    result.update(error)\n",
    "    result.update(confusion)\n",
    "    return result"
   ]
  },
  {
   "cell_type": "code",
   "execution_count": null,
   "metadata": {
    "execution": {
     "iopub.execute_input": "2021-03-22T21:08:01.259309Z",
     "iopub.status.busy": "2021-03-22T21:08:01.258308Z",
     "iopub.status.idle": "2021-03-22T21:08:01.260796Z",
     "shell.execute_reply": "2021-03-22T21:08:01.261203Z"
    },
    "papermill": {
     "duration": 0.021458,
     "end_time": "2021-03-22T21:08:01.261396",
     "exception": false,
     "start_time": "2021-03-22T21:08:01.239938",
     "status": "completed"
    },
    "tags": []
   },
   "outputs": [],
   "source": [
    "def cnn_classification(df,column = \"Next Day Close Price GR\"):\n",
    "    rate_of_growth = [0.01,0.02,0.03,0.04,0.05]\n",
    "    solution = list()\n",
    "    for t in rate_of_growth:\n",
    "        print(\"rate = \",t)\n",
    "        df[\"Target\"] = df[column].apply(lambda x : 1 if x >= t else 0)\n",
    "        X = df.drop(columns=[\"Target\",column])\n",
    "        Y = df[\"Target\"]\n",
    "        x_train, x_test, y_train, y_test = train_test_split(X, Y, test_size=0.3,random_state = 0)\n",
    "        (x_train, x_test, y_train, y_test) = reshape_data(x_train, x_test, y_train, y_test)\n",
    "        batch_size, epochs = best_params_cnn(x_train,y_train)\n",
    "\n",
    "        result = create_cnn_classification(df,column = \"Next Day Close Price GR\",epochs = epochs,batch_size = batch_size,rate = t)\n",
    "        result.update({\"epochs\":epochs,\"batch_size\":batch_size,\"rate_of_growth\":t})\n",
    "        solution.append(result)\n",
    "    return result"
   ]
  },
  {
   "cell_type": "code",
   "execution_count": null,
   "metadata": {
    "execution": {
     "iopub.execute_input": "2021-03-22T21:08:01.286940Z",
     "iopub.status.busy": "2021-03-22T21:08:01.286003Z",
     "iopub.status.idle": "2021-03-22T21:08:01.307405Z",
     "shell.execute_reply": "2021-03-22T21:08:01.306656Z"
    },
    "papermill": {
     "duration": 0.035794,
     "end_time": "2021-03-22T21:08:01.307565",
     "exception": false,
     "start_time": "2021-03-22T21:08:01.271771",
     "status": "completed"
    },
    "tags": []
   },
   "outputs": [],
   "source": [
    "total = pd.read_csv(\"/kaggle/input/stockdata/all.csv\")\n",
    "inputpath  = \"/kaggle/input/stockdata/Data/Stock\""
   ]
  },
  {
   "cell_type": "code",
   "execution_count": null,
   "metadata": {
    "execution": {
     "iopub.execute_input": "2021-03-22T21:08:01.336135Z",
     "iopub.status.busy": "2021-03-22T21:08:01.335452Z",
     "iopub.status.idle": "2021-03-22T21:08:01.392278Z",
     "shell.execute_reply": "2021-03-22T21:08:01.393071Z"
    },
    "papermill": {
     "duration": 0.074537,
     "end_time": "2021-03-22T21:08:01.393347",
     "exception": false,
     "start_time": "2021-03-22T21:08:01.318810",
     "status": "completed"
    },
    "tags": []
   },
   "outputs": [],
   "source": [
    "%%time\n",
    "for _,row in total.iterrows():\n",
    "    try:\n",
    "        security_id = str(row['security id'])\n",
    "        print(security_id)\n",
    "        df = pd.read_csv(os.path.join(inputpath,\"gr\"+str(security_id)+\".csv\"))\n",
    "        df = pre_process_data(df,60)\n",
    "        df,column = dependent_column(df, column = \"Next Day Close Price GR\")\n",
    "        cnn_res = cnn_classification(df,column)\n",
    "        cnn_df = pd.DataFrame(cnn_res)\n",
    "        cnn_df.to_csv('cnn_'+str(security_id)+\".csv\",index=None)\n",
    "    except Exception as e:\n",
    "        traceback.print_exc()\n"
   ]
  },
  {
   "cell_type": "code",
   "execution_count": null,
   "metadata": {
    "papermill": {
     "duration": 0.012197,
     "end_time": "2021-03-22T21:08:01.425730",
     "exception": false,
     "start_time": "2021-03-22T21:08:01.413533",
     "status": "completed"
    },
    "tags": []
   },
   "outputs": [],
   "source": []
  }
 ],
 "metadata": {
  "kernelspec": {
   "display_name": "Python 3",
   "language": "python",
   "name": "python3"
  },
  "language_info": {
   "codemirror_mode": {
    "name": "ipython",
    "version": 3
   },
   "file_extension": ".py",
   "mimetype": "text/x-python",
   "name": "python",
   "nbconvert_exporter": "python",
   "pygments_lexer": "ipython3",
   "version": "3.7.9"
  },
  "papermill": {
   "default_parameters": {},
   "duration": 15.649883,
   "end_time": "2021-03-22T21:08:02.551332",
   "environment_variables": {},
   "exception": null,
   "input_path": "__notebook__.ipynb",
   "output_path": "__notebook__.ipynb",
   "parameters": {},
   "start_time": "2021-03-22T21:07:46.901449",
   "version": "2.2.2"
  }
 },
 "nbformat": 4,
 "nbformat_minor": 4
}