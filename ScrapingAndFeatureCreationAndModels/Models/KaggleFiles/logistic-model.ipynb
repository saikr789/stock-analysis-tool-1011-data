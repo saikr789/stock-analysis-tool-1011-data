{
 "cells": [
  {
   "cell_type": "code",
   "execution_count": 1,
   "metadata": {
    "execution": {
     "iopub.execute_input": "2021-03-23T04:57:35.447731Z",
     "iopub.status.busy": "2021-03-23T04:57:35.446881Z",
     "iopub.status.idle": "2021-03-23T04:57:35.502708Z",
     "shell.execute_reply": "2021-03-23T04:57:35.501849Z"
    },
    "papermill": {
     "duration": 0.075965,
     "end_time": "2021-03-23T04:57:35.502964",
     "exception": false,
     "start_time": "2021-03-23T04:57:35.426999",
     "status": "completed"
    },
    "tags": []
   },
   "outputs": [
    {
     "name": "stdout",
     "output_type": "stream",
     "text": [
      "/kaggle/input/stockdata/new.csv\n",
      "/kaggle/input/stockdata/top.csv\n",
      "/kaggle/input/stockdata/all.csv\n",
      "/kaggle/input/stockdata/Data/modIndex.csv\n",
      "/kaggle/input/stockdata/Data/Index.csv\n",
      "/kaggle/input/stockdata/Data/RiskFreeRate.csv\n",
      "/kaggle/input/stockdata/Data/Equity.csv\n",
      "/kaggle/input/stockdata/Data/Stock/fc500770.csv\n",
      "/kaggle/input/stockdata/Data/Stock/532540.csv\n",
      "/kaggle/input/stockdata/Data/Stock/fc500325.csv\n",
      "/kaggle/input/stockdata/Data/Stock/fc532540.csv\n",
      "/kaggle/input/stockdata/Data/Stock/533155.csv\n",
      "/kaggle/input/stockdata/Data/Stock/500180.csv\n",
      "/kaggle/input/stockdata/Data/Stock/fc500085.csv\n",
      "/kaggle/input/stockdata/Data/Stock/fc533155.csv\n",
      "/kaggle/input/stockdata/Data/Stock/fc533260.csv\n",
      "/kaggle/input/stockdata/Data/Stock/gr500124.csv\n",
      "/kaggle/input/stockdata/Data/Stock/gr500182.csv\n",
      "/kaggle/input/stockdata/Data/Stock/gr500209.csv\n",
      "/kaggle/input/stockdata/Data/Stock/fc532210.csv\n",
      "/kaggle/input/stockdata/Data/Stock/532538.csv\n",
      "/kaggle/input/stockdata/Data/Stock/fc500680.csv\n",
      "/kaggle/input/stockdata/Data/Stock/gr537291.csv\n",
      "/kaggle/input/stockdata/Data/Stock/500182.csv\n",
      "/kaggle/input/stockdata/Data/Stock/fc532174.csv\n",
      "/kaggle/input/stockdata/Data/Stock/fc500124.csv\n",
      "/kaggle/input/stockdata/Data/Stock/fc500112.csv\n",
      "/kaggle/input/stockdata/Data/Stock/533260.csv\n",
      "/kaggle/input/stockdata/Data/Stock/532899.csv\n",
      "/kaggle/input/stockdata/Data/Stock/500425.csv\n",
      "/kaggle/input/stockdata/Data/Stock/fc506395.csv\n",
      "/kaggle/input/stockdata/Data/Stock/fc532899.csv\n",
      "/kaggle/input/stockdata/Data/Stock/gr500770.csv\n",
      "/kaggle/input/stockdata/Data/Stock/fc542602.csv\n",
      "/kaggle/input/stockdata/Data/Stock/gr542602.csv\n",
      "/kaggle/input/stockdata/Data/Stock/fc533287.csv\n",
      "/kaggle/input/stockdata/Data/Stock/532163.csv\n",
      "/kaggle/input/stockdata/Data/Stock/fc532488.csv\n",
      "/kaggle/input/stockdata/Data/Stock/fc532163.csv\n",
      "/kaggle/input/stockdata/Data/Stock/gr532163.csv\n",
      "/kaggle/input/stockdata/Data/Stock/530965.csv\n",
      "/kaggle/input/stockdata/Data/Stock/542602.csv\n",
      "/kaggle/input/stockdata/Data/Stock/gr533155.csv\n",
      "/kaggle/input/stockdata/Data/Stock/537291.csv\n",
      "/kaggle/input/stockdata/Data/Stock/500124.csv\n",
      "/kaggle/input/stockdata/Data/Stock/fc500209.csv\n",
      "/kaggle/input/stockdata/Data/Stock/gr500680.csv\n",
      "/kaggle/input/stockdata/Data/Stock/gr530965.csv\n",
      "/kaggle/input/stockdata/Data/Stock/gr539921.csv\n",
      "/kaggle/input/stockdata/Data/Stock/gr532174.csv\n",
      "/kaggle/input/stockdata/Data/Stock/500112.csv\n",
      "/kaggle/input/stockdata/Data/Stock/500085.csv\n",
      "/kaggle/input/stockdata/Data/Stock/fc532689.csv\n",
      "/kaggle/input/stockdata/Data/Stock/524715.csv\n",
      "/kaggle/input/stockdata/Data/Stock/fc532706.csv\n",
      "/kaggle/input/stockdata/Data/Stock/gr532899.csv\n",
      "/kaggle/input/stockdata/Data/Stock/fc500790.csv\n",
      "/kaggle/input/stockdata/Data/Stock/506395.csv\n",
      "/kaggle/input/stockdata/Data/Stock/507685.csv\n",
      "/kaggle/input/stockdata/Data/Stock/fc501425.csv\n",
      "/kaggle/input/stockdata/Data/Stock/532706.csv\n",
      "/kaggle/input/stockdata/Data/Stock/gr532689.csv\n",
      "/kaggle/input/stockdata/Data/Stock/fc524715.csv\n",
      "/kaggle/input/stockdata/Data/Stock/539921.csv\n",
      "/kaggle/input/stockdata/Data/Stock/gr524715.csv\n",
      "/kaggle/input/stockdata/Data/Stock/532174.csv\n",
      "/kaggle/input/stockdata/Data/Stock/533287.csv\n",
      "/kaggle/input/stockdata/Data/Stock/543217.csv\n",
      "/kaggle/input/stockdata/Data/Stock/fc500182.csv\n",
      "/kaggle/input/stockdata/Data/Stock/501425.csv\n",
      "/kaggle/input/stockdata/Data/Stock/500387.csv\n",
      "/kaggle/input/stockdata/Data/Stock/gr532706.csv\n",
      "/kaggle/input/stockdata/Data/Stock/500680.csv\n",
      "/kaggle/input/stockdata/Data/Stock/532210.csv\n",
      "/kaggle/input/stockdata/Data/Stock/fc500387.csv\n",
      "/kaggle/input/stockdata/Data/Stock/fc532538.csv\n",
      "/kaggle/input/stockdata/Data/Stock/gr532210.csv\n",
      "/kaggle/input/stockdata/Data/Stock/gr532540.csv\n",
      "/kaggle/input/stockdata/Data/Stock/fc500825.csv\n",
      "/kaggle/input/stockdata/Data/Stock/fc539921.csv\n",
      "/kaggle/input/stockdata/Data/Stock/gr533260.csv\n",
      "/kaggle/input/stockdata/Data/Stock/fc507685.csv\n",
      "/kaggle/input/stockdata/Data/Stock/gr500325.csv\n",
      "/kaggle/input/stockdata/Data/Stock/500790.csv\n",
      "/kaggle/input/stockdata/Data/Stock/gr500112.csv\n",
      "/kaggle/input/stockdata/Data/Stock/500325.csv\n",
      "/kaggle/input/stockdata/Data/Stock/gr500180.csv\n",
      "/kaggle/input/stockdata/Data/Stock/500209.csv\n",
      "/kaggle/input/stockdata/Data/Stock/gr532538.csv\n",
      "/kaggle/input/stockdata/Data/Stock/fc500180.csv\n",
      "/kaggle/input/stockdata/Data/Stock/gr500790.csv\n",
      "/kaggle/input/stockdata/Data/Stock/gr501425.csv\n",
      "/kaggle/input/stockdata/Data/Stock/gr500387.csv\n",
      "/kaggle/input/stockdata/Data/Stock/fc530965.csv\n",
      "/kaggle/input/stockdata/Data/Stock/543261.csv\n",
      "/kaggle/input/stockdata/Data/Stock/gr500825.csv\n",
      "/kaggle/input/stockdata/Data/Stock/gr506395.csv\n",
      "/kaggle/input/stockdata/Data/Stock/gr532488.csv\n",
      "/kaggle/input/stockdata/Data/Stock/532689.csv\n",
      "/kaggle/input/stockdata/Data/Stock/fc537291.csv\n",
      "/kaggle/input/stockdata/Data/Stock/532488.csv\n",
      "/kaggle/input/stockdata/Data/Stock/gr507685.csv\n",
      "/kaggle/input/stockdata/Data/Stock/500770.csv\n",
      "/kaggle/input/stockdata/Data/Stock/500825.csv\n",
      "/kaggle/input/stockdata/Data/Stock/gr500085.csv\n",
      "/kaggle/input/stockdata/Data/Stock/gr533287.csv\n",
      "/kaggle/input/stockdata/Data/CorporateActions/532540.csv\n",
      "/kaggle/input/stockdata/Data/CorporateActions/533155.csv\n",
      "/kaggle/input/stockdata/Data/CorporateActions/500180.csv\n",
      "/kaggle/input/stockdata/Data/CorporateActions/546261.csv\n",
      "/kaggle/input/stockdata/Data/CorporateActions/532538.csv\n",
      "/kaggle/input/stockdata/Data/CorporateActions/500182.csv\n",
      "/kaggle/input/stockdata/Data/CorporateActions/534261.csv\n",
      "/kaggle/input/stockdata/Data/CorporateActions/533260.csv\n",
      "/kaggle/input/stockdata/Data/CorporateActions/532899.csv\n",
      "/kaggle/input/stockdata/Data/CorporateActions/500425.csv\n",
      "/kaggle/input/stockdata/Data/CorporateActions/532163.csv\n",
      "/kaggle/input/stockdata/Data/CorporateActions/530965.csv\n",
      "/kaggle/input/stockdata/Data/CorporateActions/542602.csv\n",
      "/kaggle/input/stockdata/Data/CorporateActions/537291.csv\n",
      "/kaggle/input/stockdata/Data/CorporateActions/500124.csv\n",
      "/kaggle/input/stockdata/Data/CorporateActions/500112.csv\n",
      "/kaggle/input/stockdata/Data/CorporateActions/500085.csv\n",
      "/kaggle/input/stockdata/Data/CorporateActions/524715.csv\n",
      "/kaggle/input/stockdata/Data/CorporateActions/506395.csv\n",
      "/kaggle/input/stockdata/Data/CorporateActions/507685.csv\n",
      "/kaggle/input/stockdata/Data/CorporateActions/532706.csv\n",
      "/kaggle/input/stockdata/Data/CorporateActions/539921.csv\n",
      "/kaggle/input/stockdata/Data/CorporateActions/532174.csv\n",
      "/kaggle/input/stockdata/Data/CorporateActions/533287.csv\n",
      "/kaggle/input/stockdata/Data/CorporateActions/543217.csv\n",
      "/kaggle/input/stockdata/Data/CorporateActions/501425.csv\n",
      "/kaggle/input/stockdata/Data/CorporateActions/500387.csv\n",
      "/kaggle/input/stockdata/Data/CorporateActions/500680.csv\n",
      "/kaggle/input/stockdata/Data/CorporateActions/532210.csv\n",
      "/kaggle/input/stockdata/Data/CorporateActions/500002.csv\n",
      "/kaggle/input/stockdata/Data/CorporateActions/500790.csv\n",
      "/kaggle/input/stockdata/Data/CorporateActions/500325.csv\n",
      "/kaggle/input/stockdata/Data/CorporateActions/500209.csv\n",
      "/kaggle/input/stockdata/Data/CorporateActions/532689.csv\n",
      "/kaggle/input/stockdata/Data/CorporateActions/532488.csv\n",
      "/kaggle/input/stockdata/Data/CorporateActions/500770.csv\n",
      "/kaggle/input/stockdata/Data/CorporateActions/500825.csv\n",
      "/kaggle/input/stockdata/Data/Revenue/532540.csv\n",
      "/kaggle/input/stockdata/Data/Revenue/533155.csv\n",
      "/kaggle/input/stockdata/Data/Revenue/500180.csv\n",
      "/kaggle/input/stockdata/Data/Revenue/532538.csv\n",
      "/kaggle/input/stockdata/Data/Revenue/500182.csv\n",
      "/kaggle/input/stockdata/Data/Revenue/533260.csv\n",
      "/kaggle/input/stockdata/Data/Revenue/532899.csv\n",
      "/kaggle/input/stockdata/Data/Revenue/500425.csv\n",
      "/kaggle/input/stockdata/Data/Revenue/532163.csv\n",
      "/kaggle/input/stockdata/Data/Revenue/530965.csv\n",
      "/kaggle/input/stockdata/Data/Revenue/542602.csv\n",
      "/kaggle/input/stockdata/Data/Revenue/537291.csv\n",
      "/kaggle/input/stockdata/Data/Revenue/500124.csv\n",
      "/kaggle/input/stockdata/Data/Revenue/500112.csv\n",
      "/kaggle/input/stockdata/Data/Revenue/500085.csv\n",
      "/kaggle/input/stockdata/Data/Revenue/524715.csv\n",
      "/kaggle/input/stockdata/Data/Revenue/506395.csv\n",
      "/kaggle/input/stockdata/Data/Revenue/507685.csv\n",
      "/kaggle/input/stockdata/Data/Revenue/532706.csv\n",
      "/kaggle/input/stockdata/Data/Revenue/539921.csv\n",
      "/kaggle/input/stockdata/Data/Revenue/532174.csv\n",
      "/kaggle/input/stockdata/Data/Revenue/533287.csv\n",
      "/kaggle/input/stockdata/Data/Revenue/543217.csv\n",
      "/kaggle/input/stockdata/Data/Revenue/501425.csv\n",
      "/kaggle/input/stockdata/Data/Revenue/500387.csv\n",
      "/kaggle/input/stockdata/Data/Revenue/500680.csv\n",
      "/kaggle/input/stockdata/Data/Revenue/532210.csv\n",
      "/kaggle/input/stockdata/Data/Revenue/500002.csv\n",
      "/kaggle/input/stockdata/Data/Revenue/500790.csv\n",
      "/kaggle/input/stockdata/Data/Revenue/500325.csv\n",
      "/kaggle/input/stockdata/Data/Revenue/500209.csv\n",
      "/kaggle/input/stockdata/Data/Revenue/543261.csv\n",
      "/kaggle/input/stockdata/Data/Revenue/532689.csv\n",
      "/kaggle/input/stockdata/Data/Revenue/532488.csv\n",
      "/kaggle/input/stockdata/Data/Revenue/500770.csv\n",
      "/kaggle/input/stockdata/Data/Revenue/500825.csv\n"
     ]
    }
   ],
   "source": [
    "# This Python 3 environment comes with many helpful analytics libraries installed\n",
    "# It is defined by the kaggle/python Docker image: https://github.com/kaggle/docker-python\n",
    "# For example, here's several helpful packages to load\n",
    "\n",
    "import numpy as np # linear algebra\n",
    "import pandas as pd # data processing, CSV file I/O (e.g. pd.read_csv)\n",
    "\n",
    "# Input data files are available in the read-only \"../input/\" directory\n",
    "# For example, running this (by clicking run or pressing Shift+Enter) will list all files under the input directory\n",
    "\n",
    "import os\n",
    "for dirname, _, filenames in os.walk('/kaggle/input'):\n",
    "    for filename in filenames:\n",
    "        print(os.path.join(dirname, filename))\n",
    "\n",
    "# You can write up to 20GB to the current directory (/kaggle/working/) that gets preserved as output when you create a version using \"Save & Run All\" \n",
    "# You can also write temporary files to /kaggle/temp/, but they won't be saved outside of the current session"
   ]
  },
  {
   "cell_type": "code",
   "execution_count": 2,
   "metadata": {
    "execution": {
     "iopub.execute_input": "2021-03-23T04:57:35.535969Z",
     "iopub.status.busy": "2021-03-23T04:57:35.535148Z",
     "iopub.status.idle": "2021-03-23T04:57:36.873496Z",
     "shell.execute_reply": "2021-03-23T04:57:36.872713Z"
    },
    "papermill": {
     "duration": 1.357216,
     "end_time": "2021-03-23T04:57:36.873701",
     "exception": false,
     "start_time": "2021-03-23T04:57:35.516485",
     "status": "completed"
    },
    "tags": []
   },
   "outputs": [],
   "source": [
    "import pandas as pd\n",
    "import numpy as np \n",
    "import os\n",
    "from sklearn.model_selection import train_test_split\n",
    "from sklearn.linear_model import LinearRegression\n",
    "from sklearn import metrics\n",
    "from math import sqrt\n",
    "from sklearn.model_selection import GridSearchCV\n",
    "import time \n",
    "from sklearn.linear_model import LogisticRegression\n",
    "from sklearn.feature_selection import f_classif\n",
    "from sklearn.metrics import confusion_matrix\n",
    "import math\n",
    "from sklearn.metrics import precision_score, make_scorer\n",
    "import traceback\n",
    "import prettytable\n",
    "import io"
   ]
  },
  {
   "cell_type": "code",
   "execution_count": 3,
   "metadata": {
    "execution": {
     "iopub.execute_input": "2021-03-23T04:57:36.904886Z",
     "iopub.status.busy": "2021-03-23T04:57:36.903925Z",
     "iopub.status.idle": "2021-03-23T04:57:36.906926Z",
     "shell.execute_reply": "2021-03-23T04:57:36.906344Z"
    },
    "papermill": {
     "duration": 0.02089,
     "end_time": "2021-03-23T04:57:36.907088",
     "exception": false,
     "start_time": "2021-03-23T04:57:36.886198",
     "status": "completed"
    },
    "tags": []
   },
   "outputs": [],
   "source": [
    "import warnings; warnings.simplefilter('ignore')"
   ]
  },
  {
   "cell_type": "code",
   "execution_count": 4,
   "metadata": {
    "execution": {
     "iopub.execute_input": "2021-03-23T04:57:36.939969Z",
     "iopub.status.busy": "2021-03-23T04:57:36.938914Z",
     "iopub.status.idle": "2021-03-23T04:57:36.943323Z",
     "shell.execute_reply": "2021-03-23T04:57:36.943854Z"
    },
    "papermill": {
     "duration": 0.024073,
     "end_time": "2021-03-23T04:57:36.944031",
     "exception": false,
     "start_time": "2021-03-23T04:57:36.919958",
     "status": "completed"
    },
    "tags": []
   },
   "outputs": [
    {
     "data": {
      "text/plain": [
       "'/kaggle/input/stockdata'"
      ]
     },
     "execution_count": 4,
     "metadata": {},
     "output_type": "execute_result"
    }
   ],
   "source": [
    "path = \"/kaggle/input/stockdata\"\n",
    "path"
   ]
  },
  {
   "cell_type": "markdown",
   "metadata": {
    "papermill": {
     "duration": 0.01245,
     "end_time": "2021-03-23T04:57:36.968951",
     "exception": false,
     "start_time": "2021-03-23T04:57:36.956501",
     "status": "completed"
    },
    "tags": []
   },
   "source": [
    "# PreProcessing Data    "
   ]
  },
  {
   "cell_type": "code",
   "execution_count": 5,
   "metadata": {
    "execution": {
     "iopub.execute_input": "2021-03-23T04:57:36.999058Z",
     "iopub.status.busy": "2021-03-23T04:57:36.998013Z",
     "iopub.status.idle": "2021-03-23T04:57:37.007536Z",
     "shell.execute_reply": "2021-03-23T04:57:37.006816Z"
    },
    "papermill": {
     "duration": 0.025407,
     "end_time": "2021-03-23T04:57:37.007706",
     "exception": false,
     "start_time": "2021-03-23T04:57:36.982299",
     "status": "completed"
    },
    "tags": []
   },
   "outputs": [],
   "source": [
    "def pre_process_data(data,null_threshold):\n",
    "    \"\"\"\n",
    "    Drops Date and Unix Date columns from the data.\n",
    "    Drops the columns which has null values more than specified null_threshold.\n",
    "    Replaces infinite values with NAN.\n",
    "    Drops the rows which has null values.\n",
    "\n",
    "    Parameters\n",
    "    ----------\n",
    "    data : dataframe\n",
    "\n",
    "    null_threshold : numeric\n",
    "        numeric value describing the amount of null values that can be present.\n",
    "\n",
    "    Returns\n",
    "    -------\n",
    "    data : dataframe\n",
    "        an updated dataframe after performing all the opertaions.\n",
    "    \"\"\"\n",
    "    \n",
    "    data.drop(columns=['Unix Date','Date'],axis=1,inplace=True)\n",
    "    total = data.shape[0]\n",
    "    for col in data.columns:\n",
    "        if null_threshold * total / 100 < data[col].isnull().sum():\n",
    "            data.drop(columns=[col],axis=1,inplace=True)\n",
    "    data.replace([np.inf, -np.inf], np.nan, inplace=True)\n",
    "    data.dropna(axis=0,inplace=True)\n",
    "    return data"
   ]
  },
  {
   "cell_type": "markdown",
   "metadata": {
    "papermill": {
     "duration": 0.012238,
     "end_time": "2021-03-23T04:57:37.033270",
     "exception": false,
     "start_time": "2021-03-23T04:57:37.021032",
     "status": "completed"
    },
    "tags": []
   },
   "source": [
    "# Removing columns based on dependent column\n"
   ]
  },
  {
   "cell_type": "code",
   "execution_count": 6,
   "metadata": {
    "execution": {
     "iopub.execute_input": "2021-03-23T04:57:37.065583Z",
     "iopub.status.busy": "2021-03-23T04:57:37.064897Z",
     "iopub.status.idle": "2021-03-23T04:57:37.067065Z",
     "shell.execute_reply": "2021-03-23T04:57:37.067619Z"
    },
    "papermill": {
     "duration": 0.021989,
     "end_time": "2021-03-23T04:57:37.067798",
     "exception": false,
     "start_time": "2021-03-23T04:57:37.045809",
     "status": "completed"
    },
    "tags": []
   },
   "outputs": [],
   "source": [
    "def dependent_column(data,column):\n",
    "    \"\"\"\n",
    "    Removes all the Next Day columns.\n",
    "    Removes all the non Growth Rate Columns (GR)\n",
    "    add the predictor column to list of columns.\n",
    "\n",
    "    Parameters\n",
    "    ----------\n",
    "    data : dataframe\n",
    "\n",
    "    column : string\n",
    "        name of the predictor column \n",
    "\n",
    "    Returns\n",
    "    -------\n",
    "    data : dataframe\n",
    "        an updated dataframe after performing all the opertaions.\n",
    "    column : string\n",
    "        name of the predictor column\n",
    "    \"\"\"\n",
    "    cols = [col for col in data.columns if \"next\" not in col.lower() and col.lower().endswith(\"gr\")]\n",
    "    cols.append(column)\n",
    "    data = data[cols]\n",
    "    return (data,column)"
   ]
  },
  {
   "cell_type": "markdown",
   "metadata": {
    "papermill": {
     "duration": 0.012297,
     "end_time": "2021-03-23T04:57:37.092881",
     "exception": false,
     "start_time": "2021-03-23T04:57:37.080584",
     "status": "completed"
    },
    "tags": []
   },
   "source": [
    "# Parameters Tuning"
   ]
  },
  {
   "cell_type": "code",
   "execution_count": 7,
   "metadata": {
    "execution": {
     "iopub.execute_input": "2021-03-23T04:57:37.121608Z",
     "iopub.status.busy": "2021-03-23T04:57:37.120913Z",
     "iopub.status.idle": "2021-03-23T04:57:37.128469Z",
     "shell.execute_reply": "2021-03-23T04:57:37.128988Z"
    },
    "papermill": {
     "duration": 0.02375,
     "end_time": "2021-03-23T04:57:37.129175",
     "exception": false,
     "start_time": "2021-03-23T04:57:37.105425",
     "status": "completed"
    },
    "tags": []
   },
   "outputs": [],
   "source": [
    "def best_params_logistic(X,Y):\n",
    "    custom_scorer = make_scorer(metrics.f1_score, greater_is_better=True,pos_label = 1)\n",
    "    penalty = ['l1', 'l2','none']\n",
    "    C = [0.001,0.01,0.1,1,10,100]\n",
    "    hyperparameters = dict(C = C, penalty = penalty)\n",
    "    logistic = LogisticRegression()\n",
    "    try:\n",
    "        gridsearch = GridSearchCV(logistic, hyperparameters, cv=5,verbose=0,scoring = custom_scorer)\n",
    "        best_model = gridsearch.fit(X, Y)\n",
    "    except:\n",
    "        hyperparameters[\"penalty\"] = ['none','l2']\n",
    "        gridsearch = GridSearchCV(logistic, hyperparameters, cv=5, verbose=0,scoring = custom_scorer)\n",
    "        best_model = gridsearch.fit(X, Y)\n",
    "    best_p = best_model.best_estimator_.get_params()[\"penalty\"]\n",
    "    best_c = best_model.best_estimator_.get_params()[\"C\"]\n",
    "    return best_p,best_c"
   ]
  },
  {
   "cell_type": "markdown",
   "metadata": {
    "papermill": {
     "duration": 0.012358,
     "end_time": "2021-03-23T04:57:37.154367",
     "exception": false,
     "start_time": "2021-03-23T04:57:37.142009",
     "status": "completed"
    },
    "tags": []
   },
   "source": [
    "# Confusion Matrix\n",
    "\n",
    "### true negatives  {0,0},\n",
    "### false negatives {1,0},\n",
    "### true positives  {1,1},\n",
    "### false positives {0,1}."
   ]
  },
  {
   "cell_type": "code",
   "execution_count": 8,
   "metadata": {
    "execution": {
     "iopub.execute_input": "2021-03-23T04:57:37.184961Z",
     "iopub.status.busy": "2021-03-23T04:57:37.184199Z",
     "iopub.status.idle": "2021-03-23T04:57:37.189582Z",
     "shell.execute_reply": "2021-03-23T04:57:37.190132Z"
    },
    "papermill": {
     "duration": 0.023018,
     "end_time": "2021-03-23T04:57:37.190337",
     "exception": false,
     "start_time": "2021-03-23T04:57:37.167319",
     "status": "completed"
    },
    "tags": []
   },
   "outputs": [],
   "source": [
    "def create_confusion_matrix(y_pred,y_true):\n",
    "    \n",
    "    cm = confusion_matrix(y_true,y_pred)\n",
    "    accuracy = metrics.accuracy_score(y_true,y_pred)\n",
    "    precision = metrics.precision_score(y_true,y_pred)\n",
    "    recall = metrics.recall_score(y_true,y_pred)\n",
    "    f1_score = metrics.f1_score(y_true,y_pred)\n",
    "    return {\"accuracy\":accuracy,\"precision\":precision,\"recall\":recall,\"f1_score\":f1_score,\"confusion matrix\":cm}\n"
   ]
  },
  {
   "cell_type": "markdown",
   "metadata": {
    "papermill": {
     "duration": 0.0126,
     "end_time": "2021-03-23T04:57:37.215890",
     "exception": false,
     "start_time": "2021-03-23T04:57:37.203290",
     "status": "completed"
    },
    "tags": []
   },
   "source": [
    "# Logistic Regression"
   ]
  },
  {
   "cell_type": "code",
   "execution_count": 9,
   "metadata": {
    "execution": {
     "iopub.execute_input": "2021-03-23T04:57:37.252218Z",
     "iopub.status.busy": "2021-03-23T04:57:37.251433Z",
     "iopub.status.idle": "2021-03-23T04:57:37.260099Z",
     "shell.execute_reply": "2021-03-23T04:57:37.260656Z"
    },
    "papermill": {
     "duration": 0.0293,
     "end_time": "2021-03-23T04:57:37.260863",
     "exception": false,
     "start_time": "2021-03-23T04:57:37.231563",
     "status": "completed"
    },
    "tags": []
   },
   "outputs": [],
   "source": [
    "def logistic_regression(df,column, threshold,C, penalty):\n",
    "    df[\"Target\"] = df[\"Next Day Close Price GR\"].apply(lambda x : 1 if x >= threshold else 0)\n",
    "    X = df[df.columns[:-2]]\n",
    "    Y = df[\"Target\"]\n",
    "    X_train, X_test, y_train, y_test = train_test_split(X, Y, test_size=0.3, random_state=0)\n",
    "    logmodel = LogisticRegression(penalty = penalty, C = C,random_state = 0)\n",
    "    logmodel.fit(X_train, y_train)\n",
    "    y_pred = logmodel.predict(X_test)\n",
    "\n",
    "    confidence = logmodel.score(X_test, y_test)\n",
    "    rmse = sqrt(metrics.mean_squared_error(y_test, y_pred))\n",
    "    mae = metrics.mean_absolute_error(y_test, y_pred)\n",
    "    mse = metrics.mean_squared_error(y_test, y_pred)\n",
    "    confusion_mat =  create_confusion_matrix(y_pred,y_test)\n",
    "    myres = {\"root_mean_squared_error\":rmse,\"mean_absolute_error\":mae,\"mean_squared_error\":mse,\"confidence\":confidence}\n",
    "    myres.update(confusion_mat)\n",
    "    return myres"
   ]
  },
  {
   "cell_type": "code",
   "execution_count": 10,
   "metadata": {
    "execution": {
     "iopub.execute_input": "2021-03-23T04:57:37.292835Z",
     "iopub.status.busy": "2021-03-23T04:57:37.291749Z",
     "iopub.status.idle": "2021-03-23T04:57:37.392299Z",
     "shell.execute_reply": "2021-03-23T04:57:37.392957Z"
    },
    "papermill": {
     "duration": 0.117946,
     "end_time": "2021-03-23T04:57:37.393166",
     "exception": false,
     "start_time": "2021-03-23T04:57:37.275220",
     "status": "completed"
    },
    "tags": []
   },
   "outputs": [],
   "source": [
    "def logistic_model(df,column = \"Next Day Close Price GR\"):\n",
    "    \n",
    "    threshold = [0.01,0.02,0.03,0.04,0.05]\n",
    "    solution = list()\n",
    "    for t in threshold:\n",
    "        df[\"Target\"] = df[\"Next Day Close Price GR\"].apply(lambda x : 1 if x >= t else 0)\n",
    "        X = df.drop(columns=[\"Target\",column])\n",
    "        Y = df[\"Target\"]\n",
    "\n",
    "        P_values = [0.01,0.05,0.1,0.15,0.2,0.25]\n",
    "        F_values = [0.1,0.5,1,2,5,10,100]\n",
    "\n",
    "        f_col_values, p_col_values = f_classif(X,Y)\n",
    "        f_col_values = dict(zip(X.columns,f_col_values))\n",
    "        p_col_values = dict(zip(X.columns,p_col_values))\n",
    "        \n",
    "        for p in P_values:\n",
    "            mycols = list()\n",
    "            for col,val in p_col_values.items():\n",
    "                if val <= p:\n",
    "                    mycols.append(col)\n",
    "            if mycols == []:\n",
    "                continue\n",
    "            X = df[mycols]\n",
    "            X_train, X_test, y_train, y_test = train_test_split(X, Y, test_size=0.3, random_state=0)\n",
    "            best_p,best_c = best_params_logistic(X_train,y_train)\n",
    "            result = logistic_regression(df,column = \"Next Day Close Price GR\",threshold = t,C = best_c, penalty = best_p)\n",
    "            result.update({\"penalty\":best_p,\"C\":best_c,\"p_f_value\":\"p_\"+str(p),\"threshold\":t})\n",
    "            result.update({\"features\":mycols})\n",
    "            solution.append(result)\n",
    "\n",
    "        for f in F_values:\n",
    "            mycols = list()\n",
    "            for col,val in f_col_values.items():\n",
    "                if val >= f:\n",
    "                    mycols.append(col)\n",
    "            if mycols == []:\n",
    "                continue\n",
    "            X = df[mycols]\n",
    "            X_train, X_test, y_train, y_test = train_test_split(X, Y, test_size=0.3, random_state=0)\n",
    "            best_p,best_c = best_params_logistic(X_train,y_train)\n",
    "            result = logistic_regression(df,column = \"Next Day Close Price GR\",threshold = t,C = best_c, penalty = best_p)\n",
    "            result.update({\"penalty\":best_p,\"C\":best_c,\"p_f_value\":\"f_\"+str(f),\"threshold\":t})\n",
    "            result.update({\"features\":mycols})\n",
    "            solution.append(result)\n",
    "\n",
    "    return solution"
   ]
  },
  {
   "cell_type": "code",
   "execution_count": 11,
   "metadata": {
    "execution": {
     "iopub.execute_input": "2021-03-23T04:57:37.424165Z",
     "iopub.status.busy": "2021-03-23T04:57:37.423437Z",
     "iopub.status.idle": "2021-03-23T04:57:37.443161Z",
     "shell.execute_reply": "2021-03-23T04:57:37.443781Z"
    },
    "papermill": {
     "duration": 0.037363,
     "end_time": "2021-03-23T04:57:37.443984",
     "exception": false,
     "start_time": "2021-03-23T04:57:37.406621",
     "status": "completed"
    },
    "tags": []
   },
   "outputs": [],
   "source": [
    "total = pd.read_csv(os.path.join(path,\"all.csv\"))"
   ]
  },
  {
   "cell_type": "code",
   "execution_count": 12,
   "metadata": {
    "execution": {
     "iopub.execute_input": "2021-03-23T04:57:37.476745Z",
     "iopub.status.busy": "2021-03-23T04:57:37.475858Z",
     "iopub.status.idle": "2021-03-23T05:50:39.361845Z",
     "shell.execute_reply": "2021-03-23T05:50:39.361105Z"
    },
    "papermill": {
     "duration": 3181.90441,
     "end_time": "2021-03-23T05:50:39.362114",
     "exception": false,
     "start_time": "2021-03-23T04:57:37.457704",
     "status": "completed"
    },
    "tags": []
   },
   "outputs": [
    {
     "name": "stdout",
     "output_type": "stream",
     "text": [
      "500112\n",
      "500325\n",
      "532540\n",
      "500209\n",
      "532174\n",
      "507685\n",
      "530965\n",
      "500182\n",
      "532210\n",
      "500180\n",
      "500680\n",
      "506395\n",
      "500770\n",
      "500085\n",
      "501425\n",
      "532899\n",
      "537291\n",
      "500790\n",
      "500825\n",
      "533155\n",
      "533287\n",
      "533260\n",
      "539921\n",
      "542602\n"
     ]
    },
    {
     "name": "stderr",
     "output_type": "stream",
     "text": [
      "Traceback (most recent call last):\n",
      "  File \"<ipython-input-12-4a5f9dec9f6c>\", line 4, in <module>\n",
      "    df = pd.read_csv(os.path.join(path,'Data/Stock/'+'gr'+str(security_id)+'.csv'))\n",
      "  File \"/opt/conda/lib/python3.7/site-packages/pandas/io/parsers.py\", line 605, in read_csv\n",
      "    return _read(filepath_or_buffer, kwds)\n",
      "  File \"/opt/conda/lib/python3.7/site-packages/pandas/io/parsers.py\", line 457, in _read\n",
      "    parser = TextFileReader(filepath_or_buffer, **kwds)\n",
      "  File \"/opt/conda/lib/python3.7/site-packages/pandas/io/parsers.py\", line 814, in __init__\n",
      "    self._engine = self._make_engine(self.engine)\n",
      "  File \"/opt/conda/lib/python3.7/site-packages/pandas/io/parsers.py\", line 1045, in _make_engine\n",
      "    return mapping[engine](self.f, **self.options)  # type: ignore[call-arg]\n",
      "  File \"/opt/conda/lib/python3.7/site-packages/pandas/io/parsers.py\", line 1862, in __init__\n",
      "    self._open_handles(src, kwds)\n",
      "  File \"/opt/conda/lib/python3.7/site-packages/pandas/io/parsers.py\", line 1363, in _open_handles\n",
      "    storage_options=kwds.get(\"storage_options\", None),\n",
      "  File \"/opt/conda/lib/python3.7/site-packages/pandas/io/common.py\", line 644, in get_handle\n",
      "    newline=\"\",\n",
      "FileNotFoundError: [Errno 2] No such file or directory: '/kaggle/input/stockdata/Data/Stock/gr543217.csv'\n",
      "Traceback (most recent call last):\n",
      "  File \"<ipython-input-12-4a5f9dec9f6c>\", line 4, in <module>\n",
      "    df = pd.read_csv(os.path.join(path,'Data/Stock/'+'gr'+str(security_id)+'.csv'))\n",
      "  File \"/opt/conda/lib/python3.7/site-packages/pandas/io/parsers.py\", line 605, in read_csv\n",
      "    return _read(filepath_or_buffer, kwds)\n",
      "  File \"/opt/conda/lib/python3.7/site-packages/pandas/io/parsers.py\", line 457, in _read\n",
      "    parser = TextFileReader(filepath_or_buffer, **kwds)\n",
      "  File \"/opt/conda/lib/python3.7/site-packages/pandas/io/parsers.py\", line 814, in __init__\n",
      "    self._engine = self._make_engine(self.engine)\n",
      "  File \"/opt/conda/lib/python3.7/site-packages/pandas/io/parsers.py\", line 1045, in _make_engine\n",
      "    return mapping[engine](self.f, **self.options)  # type: ignore[call-arg]\n",
      "  File \"/opt/conda/lib/python3.7/site-packages/pandas/io/parsers.py\", line 1862, in __init__\n",
      "    self._open_handles(src, kwds)\n",
      "  File \"/opt/conda/lib/python3.7/site-packages/pandas/io/parsers.py\", line 1363, in _open_handles\n",
      "    storage_options=kwds.get(\"storage_options\", None),\n",
      "  File \"/opt/conda/lib/python3.7/site-packages/pandas/io/common.py\", line 644, in get_handle\n",
      "    newline=\"\",\n",
      "FileNotFoundError: [Errno 2] No such file or directory: '/kaggle/input/stockdata/Data/Stock/gr543261.csv'\n"
     ]
    },
    {
     "name": "stdout",
     "output_type": "stream",
     "text": [
      "532538\n",
      "500387\n"
     ]
    },
    {
     "name": "stderr",
     "output_type": "stream",
     "text": [
      "Traceback (most recent call last):\n",
      "  File \"<ipython-input-12-4a5f9dec9f6c>\", line 4, in <module>\n",
      "    df = pd.read_csv(os.path.join(path,'Data/Stock/'+'gr'+str(security_id)+'.csv'))\n",
      "  File \"/opt/conda/lib/python3.7/site-packages/pandas/io/parsers.py\", line 605, in read_csv\n",
      "    return _read(filepath_or_buffer, kwds)\n",
      "  File \"/opt/conda/lib/python3.7/site-packages/pandas/io/parsers.py\", line 457, in _read\n",
      "    parser = TextFileReader(filepath_or_buffer, **kwds)\n",
      "  File \"/opt/conda/lib/python3.7/site-packages/pandas/io/parsers.py\", line 814, in __init__\n",
      "    self._engine = self._make_engine(self.engine)\n",
      "  File \"/opt/conda/lib/python3.7/site-packages/pandas/io/parsers.py\", line 1045, in _make_engine\n",
      "    return mapping[engine](self.f, **self.options)  # type: ignore[call-arg]\n",
      "  File \"/opt/conda/lib/python3.7/site-packages/pandas/io/parsers.py\", line 1862, in __init__\n",
      "    self._open_handles(src, kwds)\n",
      "  File \"/opt/conda/lib/python3.7/site-packages/pandas/io/parsers.py\", line 1363, in _open_handles\n",
      "    storage_options=kwds.get(\"storage_options\", None),\n",
      "  File \"/opt/conda/lib/python3.7/site-packages/pandas/io/common.py\", line 644, in get_handle\n",
      "    newline=\"\",\n",
      "FileNotFoundError: [Errno 2] No such file or directory: '/kaggle/input/stockdata/Data/Stock/gr500425.csv'\n"
     ]
    },
    {
     "name": "stdout",
     "output_type": "stream",
     "text": [
      "532689\n",
      "532706\n",
      "532163\n",
      "524715\n",
      "532488\n",
      "500124\n"
     ]
    }
   ],
   "source": [
    "for _, row in total.iterrows():\n",
    "    try:\n",
    "        security_id = str(row['security id'])\n",
    "        df = pd.read_csv(os.path.join(path,'Data/Stock/'+'gr'+str(security_id)+'.csv'))\n",
    "        print(security_id)\n",
    "        df = pre_process_data(df,60)\n",
    "        column = \"Next Day Close Price GR\"\n",
    "        df,column = dependent_column(df,column)\n",
    "        result = logistic_model(df,column)\n",
    "        result_df = pd.DataFrame(result)\n",
    "        result_df.to_csv(\"logistic_\"+str(security_id)+\".csv\",index=None)\n",
    "    except Exception as e:\n",
    "        traceback.print_exc() \n"
   ]
  },
  {
   "cell_type": "code",
   "execution_count": null,
   "metadata": {
    "papermill": {
     "duration": 0.024136,
     "end_time": "2021-03-23T05:50:39.410341",
     "exception": false,
     "start_time": "2021-03-23T05:50:39.386205",
     "status": "completed"
    },
    "tags": []
   },
   "outputs": [],
   "source": []
  }
 ],
 "metadata": {
  "kernelspec": {
   "display_name": "Python 3",
   "language": "python",
   "name": "python3"
  },
  "language_info": {
   "codemirror_mode": {
    "name": "ipython",
    "version": 3
   },
   "file_extension": ".py",
   "mimetype": "text/x-python",
   "name": "python",
   "nbconvert_exporter": "python",
   "pygments_lexer": "ipython3",
   "version": "3.7.9"
  },
  "papermill": {
   "default_parameters": {},
   "duration": 3190.767186,
   "end_time": "2021-03-23T05:50:40.146899",
   "environment_variables": {},
   "exception": null,
   "input_path": "__notebook__.ipynb",
   "output_path": "__notebook__.ipynb",
   "parameters": {},
   "start_time": "2021-03-23T04:57:29.379713",
   "version": "2.2.2"
  }
 },
 "nbformat": 4,
 "nbformat_minor": 4
}
