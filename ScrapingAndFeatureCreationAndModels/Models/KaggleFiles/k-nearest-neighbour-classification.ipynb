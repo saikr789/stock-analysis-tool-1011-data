{
 "cells": [
  {
   "cell_type": "code",
   "execution_count": 1,
   "metadata": {
    "_cell_guid": "b1076dfc-b9ad-4769-8c92-a6c4dae69d19",
    "_uuid": "8f2839f25d086af736a60e9eeb907d3b93b6e0e5",
    "execution": {
     "iopub.execute_input": "2021-03-22T19:58:18.404405Z",
     "iopub.status.busy": "2021-03-22T19:58:18.403714Z",
     "iopub.status.idle": "2021-03-22T19:58:18.467498Z",
     "shell.execute_reply": "2021-03-22T19:58:18.468318Z"
    },
    "papermill": {
     "duration": 0.081871,
     "end_time": "2021-03-22T19:58:18.468799",
     "exception": false,
     "start_time": "2021-03-22T19:58:18.386928",
     "status": "completed"
    },
    "tags": []
   },
   "outputs": [
    {
     "name": "stdout",
     "output_type": "stream",
     "text": [
      "/kaggle/input/stockdata/new.csv\n",
      "/kaggle/input/stockdata/top.csv\n",
      "/kaggle/input/stockdata/all.csv\n",
      "/kaggle/input/stockdata/Data/modIndex.csv\n",
      "/kaggle/input/stockdata/Data/Index.csv\n",
      "/kaggle/input/stockdata/Data/RiskFreeRate.csv\n",
      "/kaggle/input/stockdata/Data/Equity.csv\n",
      "/kaggle/input/stockdata/Data/Stock/fc500770.csv\n",
      "/kaggle/input/stockdata/Data/Stock/532540.csv\n",
      "/kaggle/input/stockdata/Data/Stock/fc500325.csv\n",
      "/kaggle/input/stockdata/Data/Stock/fc532540.csv\n",
      "/kaggle/input/stockdata/Data/Stock/533155.csv\n",
      "/kaggle/input/stockdata/Data/Stock/500180.csv\n",
      "/kaggle/input/stockdata/Data/Stock/fc500085.csv\n",
      "/kaggle/input/stockdata/Data/Stock/fc533155.csv\n",
      "/kaggle/input/stockdata/Data/Stock/fc533260.csv\n",
      "/kaggle/input/stockdata/Data/Stock/gr500124.csv\n",
      "/kaggle/input/stockdata/Data/Stock/gr500182.csv\n",
      "/kaggle/input/stockdata/Data/Stock/gr500209.csv\n",
      "/kaggle/input/stockdata/Data/Stock/fc532210.csv\n",
      "/kaggle/input/stockdata/Data/Stock/532538.csv\n",
      "/kaggle/input/stockdata/Data/Stock/fc500680.csv\n",
      "/kaggle/input/stockdata/Data/Stock/gr537291.csv\n",
      "/kaggle/input/stockdata/Data/Stock/500182.csv\n",
      "/kaggle/input/stockdata/Data/Stock/fc532174.csv\n",
      "/kaggle/input/stockdata/Data/Stock/fc500124.csv\n",
      "/kaggle/input/stockdata/Data/Stock/fc500112.csv\n",
      "/kaggle/input/stockdata/Data/Stock/533260.csv\n",
      "/kaggle/input/stockdata/Data/Stock/532899.csv\n",
      "/kaggle/input/stockdata/Data/Stock/500425.csv\n",
      "/kaggle/input/stockdata/Data/Stock/fc506395.csv\n",
      "/kaggle/input/stockdata/Data/Stock/fc532899.csv\n",
      "/kaggle/input/stockdata/Data/Stock/gr500770.csv\n",
      "/kaggle/input/stockdata/Data/Stock/fc542602.csv\n",
      "/kaggle/input/stockdata/Data/Stock/gr542602.csv\n",
      "/kaggle/input/stockdata/Data/Stock/fc533287.csv\n",
      "/kaggle/input/stockdata/Data/Stock/532163.csv\n",
      "/kaggle/input/stockdata/Data/Stock/fc532488.csv\n",
      "/kaggle/input/stockdata/Data/Stock/fc532163.csv\n",
      "/kaggle/input/stockdata/Data/Stock/gr532163.csv\n",
      "/kaggle/input/stockdata/Data/Stock/530965.csv\n",
      "/kaggle/input/stockdata/Data/Stock/542602.csv\n",
      "/kaggle/input/stockdata/Data/Stock/gr533155.csv\n",
      "/kaggle/input/stockdata/Data/Stock/537291.csv\n",
      "/kaggle/input/stockdata/Data/Stock/500124.csv\n",
      "/kaggle/input/stockdata/Data/Stock/fc500209.csv\n",
      "/kaggle/input/stockdata/Data/Stock/gr500680.csv\n",
      "/kaggle/input/stockdata/Data/Stock/gr530965.csv\n",
      "/kaggle/input/stockdata/Data/Stock/gr539921.csv\n",
      "/kaggle/input/stockdata/Data/Stock/gr532174.csv\n",
      "/kaggle/input/stockdata/Data/Stock/500112.csv\n",
      "/kaggle/input/stockdata/Data/Stock/500085.csv\n",
      "/kaggle/input/stockdata/Data/Stock/fc532689.csv\n",
      "/kaggle/input/stockdata/Data/Stock/524715.csv\n",
      "/kaggle/input/stockdata/Data/Stock/fc532706.csv\n",
      "/kaggle/input/stockdata/Data/Stock/gr532899.csv\n",
      "/kaggle/input/stockdata/Data/Stock/fc500790.csv\n",
      "/kaggle/input/stockdata/Data/Stock/506395.csv\n",
      "/kaggle/input/stockdata/Data/Stock/507685.csv\n",
      "/kaggle/input/stockdata/Data/Stock/fc501425.csv\n",
      "/kaggle/input/stockdata/Data/Stock/532706.csv\n",
      "/kaggle/input/stockdata/Data/Stock/gr532689.csv\n",
      "/kaggle/input/stockdata/Data/Stock/fc524715.csv\n",
      "/kaggle/input/stockdata/Data/Stock/539921.csv\n",
      "/kaggle/input/stockdata/Data/Stock/gr524715.csv\n",
      "/kaggle/input/stockdata/Data/Stock/532174.csv\n",
      "/kaggle/input/stockdata/Data/Stock/533287.csv\n",
      "/kaggle/input/stockdata/Data/Stock/543217.csv\n",
      "/kaggle/input/stockdata/Data/Stock/fc500182.csv\n",
      "/kaggle/input/stockdata/Data/Stock/501425.csv\n",
      "/kaggle/input/stockdata/Data/Stock/500387.csv\n",
      "/kaggle/input/stockdata/Data/Stock/gr532706.csv\n",
      "/kaggle/input/stockdata/Data/Stock/500680.csv\n",
      "/kaggle/input/stockdata/Data/Stock/532210.csv\n",
      "/kaggle/input/stockdata/Data/Stock/fc500387.csv\n",
      "/kaggle/input/stockdata/Data/Stock/fc532538.csv\n",
      "/kaggle/input/stockdata/Data/Stock/gr532210.csv\n",
      "/kaggle/input/stockdata/Data/Stock/gr532540.csv\n",
      "/kaggle/input/stockdata/Data/Stock/fc500825.csv\n",
      "/kaggle/input/stockdata/Data/Stock/fc539921.csv\n",
      "/kaggle/input/stockdata/Data/Stock/gr533260.csv\n",
      "/kaggle/input/stockdata/Data/Stock/fc507685.csv\n",
      "/kaggle/input/stockdata/Data/Stock/gr500325.csv\n",
      "/kaggle/input/stockdata/Data/Stock/500790.csv\n",
      "/kaggle/input/stockdata/Data/Stock/gr500112.csv\n",
      "/kaggle/input/stockdata/Data/Stock/500325.csv\n",
      "/kaggle/input/stockdata/Data/Stock/gr500180.csv\n",
      "/kaggle/input/stockdata/Data/Stock/500209.csv\n",
      "/kaggle/input/stockdata/Data/Stock/gr532538.csv\n",
      "/kaggle/input/stockdata/Data/Stock/fc500180.csv\n",
      "/kaggle/input/stockdata/Data/Stock/gr500790.csv\n",
      "/kaggle/input/stockdata/Data/Stock/gr501425.csv\n",
      "/kaggle/input/stockdata/Data/Stock/gr500387.csv\n",
      "/kaggle/input/stockdata/Data/Stock/fc530965.csv\n",
      "/kaggle/input/stockdata/Data/Stock/543261.csv\n",
      "/kaggle/input/stockdata/Data/Stock/gr500825.csv\n",
      "/kaggle/input/stockdata/Data/Stock/gr506395.csv\n",
      "/kaggle/input/stockdata/Data/Stock/gr532488.csv\n",
      "/kaggle/input/stockdata/Data/Stock/532689.csv\n",
      "/kaggle/input/stockdata/Data/Stock/fc537291.csv\n",
      "/kaggle/input/stockdata/Data/Stock/532488.csv\n",
      "/kaggle/input/stockdata/Data/Stock/gr507685.csv\n",
      "/kaggle/input/stockdata/Data/Stock/500770.csv\n",
      "/kaggle/input/stockdata/Data/Stock/500825.csv\n",
      "/kaggle/input/stockdata/Data/Stock/gr500085.csv\n",
      "/kaggle/input/stockdata/Data/Stock/gr533287.csv\n",
      "/kaggle/input/stockdata/Data/CorporateActions/532540.csv\n",
      "/kaggle/input/stockdata/Data/CorporateActions/533155.csv\n",
      "/kaggle/input/stockdata/Data/CorporateActions/500180.csv\n",
      "/kaggle/input/stockdata/Data/CorporateActions/546261.csv\n",
      "/kaggle/input/stockdata/Data/CorporateActions/532538.csv\n",
      "/kaggle/input/stockdata/Data/CorporateActions/500182.csv\n",
      "/kaggle/input/stockdata/Data/CorporateActions/534261.csv\n",
      "/kaggle/input/stockdata/Data/CorporateActions/533260.csv\n",
      "/kaggle/input/stockdata/Data/CorporateActions/532899.csv\n",
      "/kaggle/input/stockdata/Data/CorporateActions/500425.csv\n",
      "/kaggle/input/stockdata/Data/CorporateActions/532163.csv\n",
      "/kaggle/input/stockdata/Data/CorporateActions/530965.csv\n",
      "/kaggle/input/stockdata/Data/CorporateActions/542602.csv\n",
      "/kaggle/input/stockdata/Data/CorporateActions/537291.csv\n",
      "/kaggle/input/stockdata/Data/CorporateActions/500124.csv\n",
      "/kaggle/input/stockdata/Data/CorporateActions/500112.csv\n",
      "/kaggle/input/stockdata/Data/CorporateActions/500085.csv\n",
      "/kaggle/input/stockdata/Data/CorporateActions/524715.csv\n",
      "/kaggle/input/stockdata/Data/CorporateActions/506395.csv\n",
      "/kaggle/input/stockdata/Data/CorporateActions/507685.csv\n",
      "/kaggle/input/stockdata/Data/CorporateActions/532706.csv\n",
      "/kaggle/input/stockdata/Data/CorporateActions/539921.csv\n",
      "/kaggle/input/stockdata/Data/CorporateActions/532174.csv\n",
      "/kaggle/input/stockdata/Data/CorporateActions/533287.csv\n",
      "/kaggle/input/stockdata/Data/CorporateActions/543217.csv\n",
      "/kaggle/input/stockdata/Data/CorporateActions/501425.csv\n",
      "/kaggle/input/stockdata/Data/CorporateActions/500387.csv\n",
      "/kaggle/input/stockdata/Data/CorporateActions/500680.csv\n",
      "/kaggle/input/stockdata/Data/CorporateActions/532210.csv\n",
      "/kaggle/input/stockdata/Data/CorporateActions/500002.csv\n",
      "/kaggle/input/stockdata/Data/CorporateActions/500790.csv\n",
      "/kaggle/input/stockdata/Data/CorporateActions/500325.csv\n",
      "/kaggle/input/stockdata/Data/CorporateActions/500209.csv\n",
      "/kaggle/input/stockdata/Data/CorporateActions/532689.csv\n",
      "/kaggle/input/stockdata/Data/CorporateActions/532488.csv\n",
      "/kaggle/input/stockdata/Data/CorporateActions/500770.csv\n",
      "/kaggle/input/stockdata/Data/CorporateActions/500825.csv\n",
      "/kaggle/input/stockdata/Data/Revenue/532540.csv\n",
      "/kaggle/input/stockdata/Data/Revenue/533155.csv\n",
      "/kaggle/input/stockdata/Data/Revenue/500180.csv\n",
      "/kaggle/input/stockdata/Data/Revenue/532538.csv\n",
      "/kaggle/input/stockdata/Data/Revenue/500182.csv\n",
      "/kaggle/input/stockdata/Data/Revenue/533260.csv\n",
      "/kaggle/input/stockdata/Data/Revenue/532899.csv\n",
      "/kaggle/input/stockdata/Data/Revenue/500425.csv\n",
      "/kaggle/input/stockdata/Data/Revenue/532163.csv\n",
      "/kaggle/input/stockdata/Data/Revenue/530965.csv\n",
      "/kaggle/input/stockdata/Data/Revenue/542602.csv\n",
      "/kaggle/input/stockdata/Data/Revenue/537291.csv\n",
      "/kaggle/input/stockdata/Data/Revenue/500124.csv\n",
      "/kaggle/input/stockdata/Data/Revenue/500112.csv\n",
      "/kaggle/input/stockdata/Data/Revenue/500085.csv\n",
      "/kaggle/input/stockdata/Data/Revenue/524715.csv\n",
      "/kaggle/input/stockdata/Data/Revenue/506395.csv\n",
      "/kaggle/input/stockdata/Data/Revenue/507685.csv\n",
      "/kaggle/input/stockdata/Data/Revenue/532706.csv\n",
      "/kaggle/input/stockdata/Data/Revenue/539921.csv\n",
      "/kaggle/input/stockdata/Data/Revenue/532174.csv\n",
      "/kaggle/input/stockdata/Data/Revenue/533287.csv\n",
      "/kaggle/input/stockdata/Data/Revenue/543217.csv\n",
      "/kaggle/input/stockdata/Data/Revenue/501425.csv\n",
      "/kaggle/input/stockdata/Data/Revenue/500387.csv\n",
      "/kaggle/input/stockdata/Data/Revenue/500680.csv\n",
      "/kaggle/input/stockdata/Data/Revenue/532210.csv\n",
      "/kaggle/input/stockdata/Data/Revenue/500002.csv\n",
      "/kaggle/input/stockdata/Data/Revenue/500790.csv\n",
      "/kaggle/input/stockdata/Data/Revenue/500325.csv\n",
      "/kaggle/input/stockdata/Data/Revenue/500209.csv\n",
      "/kaggle/input/stockdata/Data/Revenue/543261.csv\n",
      "/kaggle/input/stockdata/Data/Revenue/532689.csv\n",
      "/kaggle/input/stockdata/Data/Revenue/532488.csv\n",
      "/kaggle/input/stockdata/Data/Revenue/500770.csv\n",
      "/kaggle/input/stockdata/Data/Revenue/500825.csv\n"
     ]
    }
   ],
   "source": [
    "# This Python 3 environment comes with many helpful analytics libraries installed\n",
    "# It is defined by the kaggle/python Docker image: https://github.com/kaggle/docker-python\n",
    "# For example, here's several helpful packages to load\n",
    "\n",
    "import numpy as np # linear algebra\n",
    "import pandas as pd # data processing, CSV file I/O (e.g. pd.read_csv)\n",
    "\n",
    "# Input data files are available in the read-only \"../input/\" directory\n",
    "# For example, running this (by clicking run or pressing Shift+Enter) will list all files under the input directory\n",
    "\n",
    "import os\n",
    "for dirname, _, filenames in os.walk('/kaggle/input'):\n",
    "    for filename in filenames:\n",
    "        print(os.path.join(dirname, filename))\n",
    "\n",
    "# You can write up to 20GB to the current directory (/kaggle/working/) that gets preserved as output when you create a version using \"Save & Run All\" \n",
    "# You can also write temporary files to /kaggle/temp/, but they won't be saved outside of the current session"
   ]
  },
  {
   "cell_type": "code",
   "execution_count": 2,
   "metadata": {
    "execution": {
     "iopub.execute_input": "2021-03-22T19:58:18.496288Z",
     "iopub.status.busy": "2021-03-22T19:58:18.495553Z",
     "iopub.status.idle": "2021-03-22T19:58:19.756912Z",
     "shell.execute_reply": "2021-03-22T19:58:19.756139Z"
    },
    "papermill": {
     "duration": 1.27688,
     "end_time": "2021-03-22T19:58:19.757082",
     "exception": false,
     "start_time": "2021-03-22T19:58:18.480202",
     "status": "completed"
    },
    "tags": []
   },
   "outputs": [],
   "source": [
    "import numpy as np\n",
    "import pandas as pd\n",
    "import os\n",
    "from sklearn.model_selection import train_test_split\n",
    "from sklearn.neighbors import KNeighborsClassifier\n",
    "from sklearn import metrics\n",
    "from sklearn.metrics import confusion_matrix\n",
    "from math import sqrt\n",
    "from sklearn.neighbors import DistanceMetric\n",
    "from sklearn.model_selection import GridSearchCV\n",
    "from sklearn.metrics import precision_score, make_scorer,f1_score\n",
    "import traceback\n",
    "import prettytable\n"
   ]
  },
  {
   "cell_type": "code",
   "execution_count": 3,
   "metadata": {
    "execution": {
     "iopub.execute_input": "2021-03-22T19:58:19.781910Z",
     "iopub.status.busy": "2021-03-22T19:58:19.780935Z",
     "iopub.status.idle": "2021-03-22T19:58:19.784155Z",
     "shell.execute_reply": "2021-03-22T19:58:19.783537Z"
    },
    "papermill": {
     "duration": 0.017631,
     "end_time": "2021-03-22T19:58:19.784304",
     "exception": false,
     "start_time": "2021-03-22T19:58:19.766673",
     "status": "completed"
    },
    "tags": []
   },
   "outputs": [],
   "source": [
    "import warnings; warnings.simplefilter('ignore')"
   ]
  },
  {
   "cell_type": "code",
   "execution_count": 4,
   "metadata": {
    "execution": {
     "iopub.execute_input": "2021-03-22T19:58:19.811958Z",
     "iopub.status.busy": "2021-03-22T19:58:19.811258Z",
     "iopub.status.idle": "2021-03-22T19:58:19.814343Z",
     "shell.execute_reply": "2021-03-22T19:58:19.813786Z"
    },
    "papermill": {
     "duration": 0.02076,
     "end_time": "2021-03-22T19:58:19.814487",
     "exception": false,
     "start_time": "2021-03-22T19:58:19.793727",
     "status": "completed"
    },
    "tags": []
   },
   "outputs": [],
   "source": [
    "def pre_process_data(data,null_threshold):\n",
    "    \"\"\"\n",
    "    Drops Date and Unix Date columns from the data.\n",
    "    Drops the columns which has null values more than specified null_threshold.\n",
    "    Replaces infinite values with NAN.\n",
    "    Drops the rows which has null values.\n",
    "\n",
    "    Parameters\n",
    "    ----------\n",
    "    data : dataframe\n",
    "\n",
    "    null_threshold : numeric\n",
    "        numeric value describing the amount of null values that can be present.\n",
    "\n",
    "    Returns\n",
    "    -------\n",
    "    data : dataframe\n",
    "        an updated dataframe after performing all the opertaions.\n",
    "    \"\"\"\n",
    "    \n",
    "    data.drop(columns=['Unix Date','Date'],axis=1,inplace=True)\n",
    "    total = data.shape[0]\n",
    "    for col in data.columns:\n",
    "        if null_threshold * total / 100 < data[col].isnull().sum():\n",
    "            data.drop(columns=[col],axis=1,inplace=True)\n",
    "    data.replace([np.inf, -np.inf], np.nan, inplace=True)\n",
    "    data = data.apply(pd.to_numeric,errors='coerce')\n",
    "    data.dropna(axis=0,inplace=True)\n",
    "    return data"
   ]
  },
  {
   "cell_type": "code",
   "execution_count": 5,
   "metadata": {
    "execution": {
     "iopub.execute_input": "2021-03-22T19:58:19.841072Z",
     "iopub.status.busy": "2021-03-22T19:58:19.840271Z",
     "iopub.status.idle": "2021-03-22T19:58:19.842374Z",
     "shell.execute_reply": "2021-03-22T19:58:19.842798Z"
    },
    "papermill": {
     "duration": 0.018744,
     "end_time": "2021-03-22T19:58:19.842994",
     "exception": false,
     "start_time": "2021-03-22T19:58:19.824250",
     "status": "completed"
    },
    "tags": []
   },
   "outputs": [],
   "source": [
    "def dependent_column(data,column):\n",
    "    \"\"\"\n",
    "    Removes all the Next Day columns.\n",
    "    Removes all the non Growth Rate Columns (GR)\n",
    "    add the predictor column to list of columns.\n",
    "\n",
    "    Parameters\n",
    "    ----------\n",
    "    data : dataframe\n",
    "\n",
    "    column : string\n",
    "        name of the predictor column \n",
    "\n",
    "    Returns\n",
    "    -------\n",
    "    data : dataframe\n",
    "        an updated dataframe after performing all the opertaions.\n",
    "    column : string\n",
    "        name of the predictor column\n",
    "    \"\"\"\n",
    "    cols = [col for col in data.columns if \"next\" not in col.lower() and col.lower().endswith(\"gr\")]\n",
    "    cols.append(column)\n",
    "    data = data[cols]\n",
    "    return (data,column)"
   ]
  },
  {
   "cell_type": "code",
   "execution_count": 6,
   "metadata": {
    "execution": {
     "iopub.execute_input": "2021-03-22T19:58:19.866029Z",
     "iopub.status.busy": "2021-03-22T19:58:19.865377Z",
     "iopub.status.idle": "2021-03-22T19:58:19.873322Z",
     "shell.execute_reply": "2021-03-22T19:58:19.873835Z"
    },
    "papermill": {
     "duration": 0.021103,
     "end_time": "2021-03-22T19:58:19.874032",
     "exception": false,
     "start_time": "2021-03-22T19:58:19.852929",
     "status": "completed"
    },
    "tags": []
   },
   "outputs": [],
   "source": [
    "def best_parameters(X,Y):\n",
    "    custom_scorer = make_scorer(f1_score, greater_is_better=True,pos_label = 1)\n",
    "    params = {'n_neighbors':np.arange(1,105,5),'weights':['uniform', 'distance'],'metric':['euclidean','manhattan','minkowski'],\"algorithm\":[\"ball_tree\",\"kd_tree\",\"brute\"]}\n",
    "    model = GridSearchCV(KNeighborsClassifier(), params,scoring=custom_scorer)\n",
    "    model.fit(X,Y)\n",
    "    k = model.best_params_['n_neighbors']\n",
    "    params = {'n_neighbors':np.arange(k-5, k+5), 'weights':['uniform', 'distance'], 'metric':['euclidean', 'manhattan','minkowski'],\"algorithm\":[\"ball_tree\",\"kd_tree\",\"brute\"]}\n",
    "    model = GridSearchCV(KNeighborsClassifier(), params,scoring=custom_scorer)\n",
    "    model.fit(X,Y)\n",
    "    metric,n_neighbors,weights,algorithm = model.best_params_['metric'],model.best_params_['n_neighbors'],model.best_params_['weights'],model.best_params_['algorithm'],\n",
    "    return metric,n_neighbors,weights,algorithm"
   ]
  },
  {
   "cell_type": "code",
   "execution_count": 7,
   "metadata": {
    "execution": {
     "iopub.execute_input": "2021-03-22T19:58:19.897653Z",
     "iopub.status.busy": "2021-03-22T19:58:19.896976Z",
     "iopub.status.idle": "2021-03-22T19:58:19.901450Z",
     "shell.execute_reply": "2021-03-22T19:58:19.901974Z"
    },
    "papermill": {
     "duration": 0.017905,
     "end_time": "2021-03-22T19:58:19.902148",
     "exception": false,
     "start_time": "2021-03-22T19:58:19.884243",
     "status": "completed"
    },
    "tags": []
   },
   "outputs": [],
   "source": [
    "def error_metrics(y_true, y_pred):\n",
    "    rmse = sqrt(metrics.mean_squared_error(y_true, y_pred))\n",
    "    mae = metrics.mean_absolute_error(y_true, y_pred)\n",
    "    mse = metrics.mean_squared_error(y_true, y_pred)\n",
    "    return {\"root_mean_squared_error\":rmse,\"mean_absolute_error\":mae,\"mean_squared_error\":mse}"
   ]
  },
  {
   "cell_type": "code",
   "execution_count": 8,
   "metadata": {
    "execution": {
     "iopub.execute_input": "2021-03-22T19:58:19.925827Z",
     "iopub.status.busy": "2021-03-22T19:58:19.925147Z",
     "iopub.status.idle": "2021-03-22T19:58:19.930343Z",
     "shell.execute_reply": "2021-03-22T19:58:19.930843Z"
    },
    "papermill": {
     "duration": 0.018728,
     "end_time": "2021-03-22T19:58:19.931060",
     "exception": false,
     "start_time": "2021-03-22T19:58:19.912332",
     "status": "completed"
    },
    "tags": []
   },
   "outputs": [],
   "source": [
    "def create_confusion_matrix(y_pred,y_true):\n",
    "    cm = confusion_matrix(y_true,y_pred)\n",
    "    accuracy = metrics.accuracy_score(y_true,y_pred)\n",
    "    precision = metrics.precision_score(y_true,y_pred)\n",
    "    recall = metrics.recall_score(y_true,y_pred)\n",
    "    f1_score = metrics.f1_score(y_true,y_pred)\n",
    "    return {\"accuracy\":accuracy,\"precision\":precision,\"recall\":recall,\"f1_score\":f1_score,\"confusion matrix\":cm}"
   ]
  },
  {
   "cell_type": "code",
   "execution_count": 9,
   "metadata": {
    "execution": {
     "iopub.execute_input": "2021-03-22T19:58:19.955243Z",
     "iopub.status.busy": "2021-03-22T19:58:19.954542Z",
     "iopub.status.idle": "2021-03-22T19:58:19.961946Z",
     "shell.execute_reply": "2021-03-22T19:58:19.962445Z"
    },
    "papermill": {
     "duration": 0.021142,
     "end_time": "2021-03-22T19:58:19.962637",
     "exception": false,
     "start_time": "2021-03-22T19:58:19.941495",
     "status": "completed"
    },
    "tags": []
   },
   "outputs": [],
   "source": [
    "def create_knn_classification(df,column,metric,n_neighbors,weights,algorithm,rate):\n",
    "    df[\"Target\"] = df[column].apply(lambda x : 1 if x >= rate else 0)\n",
    "    X = df.drop(columns=[\"Target\",column])\n",
    "    Y = df[\"Target\"]\n",
    "    X_train, X_test, y_train, y_test = train_test_split(X, Y, test_size=0.3, random_state=0)\n",
    "    knn = KNeighborsClassifier(metric=metric,n_neighbors=n_neighbors,weights=weights)\n",
    "    knn.fit(X_train, y_train)\n",
    "    y_pred = knn.predict(X_test)\n",
    "    result = {}\n",
    "    confusion = create_confusion_matrix(y_pred,y_test)\n",
    "    error = error_metrics(y_test, y_pred)\n",
    "    result.update(error)\n",
    "    result.update(confusion)\n",
    "    return result    "
   ]
  },
  {
   "cell_type": "code",
   "execution_count": 10,
   "metadata": {
    "execution": {
     "iopub.execute_input": "2021-03-22T19:58:19.987181Z",
     "iopub.status.busy": "2021-03-22T19:58:19.986526Z",
     "iopub.status.idle": "2021-03-22T19:58:19.994008Z",
     "shell.execute_reply": "2021-03-22T19:58:19.994504Z"
    },
    "papermill": {
     "duration": 0.021554,
     "end_time": "2021-03-22T19:58:19.994700",
     "exception": false,
     "start_time": "2021-03-22T19:58:19.973146",
     "status": "completed"
    },
    "tags": []
   },
   "outputs": [],
   "source": [
    "def k_nearest_neighbours_classification(df,column=\"Next Day Close Price GR\"):\n",
    "    solution = list()\n",
    "    rate_of_growth = [0.01,0.02,0.03,0.04,0.05]\n",
    "    for t in rate_of_growth:\n",
    "        df[\"Target\"] = df[column].apply(lambda x : 1 if x >= t else 0)\n",
    "        X = df.drop(columns=[\"Target\",column])\n",
    "        Y = df[\"Target\"]\n",
    "        X_train, X_test, y_train, y_test = train_test_split(X, Y, test_size=0.3, random_state=0)\n",
    "        metric,n_neighbors,weights,algorithm = best_parameters(X_train,y_train)\n",
    "        result = create_knn_classification(df,column,metric,n_neighbors,weights,algorithm,t)\n",
    "        result.update({\"rate_of_growth\":t})\n",
    "        result.update({\"metric\":metric,\"n_neighbors\":n_neighbors,\"weights\":weights,\"algorithm\":algorithm})\n",
    "        solution.append(result)\n",
    "    return solution"
   ]
  },
  {
   "cell_type": "code",
   "execution_count": 11,
   "metadata": {
    "execution": {
     "iopub.execute_input": "2021-03-22T19:58:20.019833Z",
     "iopub.status.busy": "2021-03-22T19:58:20.019224Z",
     "iopub.status.idle": "2021-03-22T19:58:20.037483Z",
     "shell.execute_reply": "2021-03-22T19:58:20.036897Z"
    },
    "papermill": {
     "duration": 0.031843,
     "end_time": "2021-03-22T19:58:20.037632",
     "exception": false,
     "start_time": "2021-03-22T19:58:20.005789",
     "status": "completed"
    },
    "tags": []
   },
   "outputs": [],
   "source": [
    "total = pd.read_csv(\"/kaggle/input/stockdata/all.csv\")\n",
    "stockpath = '/kaggle/input/stockdata/Data/Stock'"
   ]
  },
  {
   "cell_type": "code",
   "execution_count": 12,
   "metadata": {
    "execution": {
     "iopub.execute_input": "2021-03-22T19:58:20.063184Z",
     "iopub.status.busy": "2021-03-22T19:58:20.062425Z",
     "iopub.status.idle": "2021-03-22T23:18:40.827903Z",
     "shell.execute_reply": "2021-03-22T23:18:40.828408Z"
    },
    "papermill": {
     "duration": 12020.779865,
     "end_time": "2021-03-22T23:18:40.828632",
     "exception": false,
     "start_time": "2021-03-22T19:58:20.048767",
     "status": "completed"
    },
    "tags": []
   },
   "outputs": [
    {
     "name": "stdout",
     "output_type": "stream",
     "text": [
      "500112\n",
      "500325\n",
      "532540\n",
      "500209\n",
      "532174\n",
      "507685\n",
      "530965\n",
      "500182\n",
      "532210\n",
      "500180\n",
      "500680\n",
      "506395\n",
      "500770\n",
      "500085\n",
      "501425\n",
      "532899\n",
      "537291\n",
      "500790\n",
      "500825\n",
      "533155\n",
      "533287\n",
      "533260\n",
      "539921\n",
      "542602\n",
      "543217\n",
      "543261\n",
      "532538\n"
     ]
    },
    {
     "name": "stderr",
     "output_type": "stream",
     "text": [
      "Traceback (most recent call last):\n",
      "  File \"<timed exec>\", line 6, in <module>\n",
      "  File \"/opt/conda/lib/python3.7/site-packages/pandas/io/parsers.py\", line 605, in read_csv\n",
      "    return _read(filepath_or_buffer, kwds)\n",
      "  File \"/opt/conda/lib/python3.7/site-packages/pandas/io/parsers.py\", line 457, in _read\n",
      "    parser = TextFileReader(filepath_or_buffer, **kwds)\n",
      "  File \"/opt/conda/lib/python3.7/site-packages/pandas/io/parsers.py\", line 814, in __init__\n",
      "    self._engine = self._make_engine(self.engine)\n",
      "  File \"/opt/conda/lib/python3.7/site-packages/pandas/io/parsers.py\", line 1045, in _make_engine\n",
      "    return mapping[engine](self.f, **self.options)  # type: ignore[call-arg]\n",
      "  File \"/opt/conda/lib/python3.7/site-packages/pandas/io/parsers.py\", line 1862, in __init__\n",
      "    self._open_handles(src, kwds)\n",
      "  File \"/opt/conda/lib/python3.7/site-packages/pandas/io/parsers.py\", line 1363, in _open_handles\n",
      "    storage_options=kwds.get(\"storage_options\", None),\n",
      "  File \"/opt/conda/lib/python3.7/site-packages/pandas/io/common.py\", line 644, in get_handle\n",
      "    newline=\"\",\n",
      "FileNotFoundError: [Errno 2] No such file or directory: '/kaggle/input/stockdata/Data/Stock/gr543217.csv'\n",
      "Traceback (most recent call last):\n",
      "  File \"<timed exec>\", line 6, in <module>\n",
      "  File \"/opt/conda/lib/python3.7/site-packages/pandas/io/parsers.py\", line 605, in read_csv\n",
      "    return _read(filepath_or_buffer, kwds)\n",
      "  File \"/opt/conda/lib/python3.7/site-packages/pandas/io/parsers.py\", line 457, in _read\n",
      "    parser = TextFileReader(filepath_or_buffer, **kwds)\n",
      "  File \"/opt/conda/lib/python3.7/site-packages/pandas/io/parsers.py\", line 814, in __init__\n",
      "    self._engine = self._make_engine(self.engine)\n",
      "  File \"/opt/conda/lib/python3.7/site-packages/pandas/io/parsers.py\", line 1045, in _make_engine\n",
      "    return mapping[engine](self.f, **self.options)  # type: ignore[call-arg]\n",
      "  File \"/opt/conda/lib/python3.7/site-packages/pandas/io/parsers.py\", line 1862, in __init__\n",
      "    self._open_handles(src, kwds)\n",
      "  File \"/opt/conda/lib/python3.7/site-packages/pandas/io/parsers.py\", line 1363, in _open_handles\n",
      "    storage_options=kwds.get(\"storage_options\", None),\n",
      "  File \"/opt/conda/lib/python3.7/site-packages/pandas/io/common.py\", line 644, in get_handle\n",
      "    newline=\"\",\n",
      "FileNotFoundError: [Errno 2] No such file or directory: '/kaggle/input/stockdata/Data/Stock/gr543261.csv'\n"
     ]
    },
    {
     "name": "stdout",
     "output_type": "stream",
     "text": [
      "500387\n",
      "500425\n",
      "532689\n"
     ]
    },
    {
     "name": "stderr",
     "output_type": "stream",
     "text": [
      "Traceback (most recent call last):\n",
      "  File \"<timed exec>\", line 6, in <module>\n",
      "  File \"/opt/conda/lib/python3.7/site-packages/pandas/io/parsers.py\", line 605, in read_csv\n",
      "    return _read(filepath_or_buffer, kwds)\n",
      "  File \"/opt/conda/lib/python3.7/site-packages/pandas/io/parsers.py\", line 457, in _read\n",
      "    parser = TextFileReader(filepath_or_buffer, **kwds)\n",
      "  File \"/opt/conda/lib/python3.7/site-packages/pandas/io/parsers.py\", line 814, in __init__\n",
      "    self._engine = self._make_engine(self.engine)\n",
      "  File \"/opt/conda/lib/python3.7/site-packages/pandas/io/parsers.py\", line 1045, in _make_engine\n",
      "    return mapping[engine](self.f, **self.options)  # type: ignore[call-arg]\n",
      "  File \"/opt/conda/lib/python3.7/site-packages/pandas/io/parsers.py\", line 1862, in __init__\n",
      "    self._open_handles(src, kwds)\n",
      "  File \"/opt/conda/lib/python3.7/site-packages/pandas/io/parsers.py\", line 1363, in _open_handles\n",
      "    storage_options=kwds.get(\"storage_options\", None),\n",
      "  File \"/opt/conda/lib/python3.7/site-packages/pandas/io/common.py\", line 644, in get_handle\n",
      "    newline=\"\",\n",
      "FileNotFoundError: [Errno 2] No such file or directory: '/kaggle/input/stockdata/Data/Stock/gr500425.csv'\n"
     ]
    },
    {
     "name": "stdout",
     "output_type": "stream",
     "text": [
      "532706\n",
      "532163\n",
      "524715\n",
      "532488\n",
      "500124\n",
      "CPU times: user 3h 20min, sys: 16.7 s, total: 3h 20min 16s\n",
      "Wall time: 3h 20min 20s\n"
     ]
    }
   ],
   "source": [
    "%%time\n",
    "mydf = pd.DataFrame()\n",
    "for _,row in total.iterrows():\n",
    "    try:\n",
    "        security_id = str(row['security id'])\n",
    "        print(security_id)\n",
    "        df = pd.read_csv(os.path.join(stockpath,\"gr\"+security_id+\".csv\"))\n",
    "        df = pre_process_data(df,60)\n",
    "        column = \"Next Day Close Price GR\"\n",
    "        (df,column) = dependent_column(df,column)\n",
    "        knn_result = k_nearest_neighbours_classification(df,column)\n",
    "        knn_df = pd.DataFrame(knn_result)\n",
    "        knn_df.to_csv('knn_'+str(security_id)+\".csv\",index=None)\n",
    "    except Exception as e:\n",
    "        traceback.print_exc()"
   ]
  }
 ],
 "metadata": {
  "kernelspec": {
   "display_name": "Python 3",
   "language": "python",
   "name": "python3"
  },
  "language_info": {
   "codemirror_mode": {
    "name": "ipython",
    "version": 3
   },
   "file_extension": ".py",
   "mimetype": "text/x-python",
   "name": "python",
   "nbconvert_exporter": "python",
   "pygments_lexer": "ipython3",
   "version": "3.7.9"
  },
  "papermill": {
   "default_parameters": {},
   "duration": 12029.108462,
   "end_time": "2021-03-22T23:18:41.461493",
   "environment_variables": {},
   "exception": null,
   "input_path": "__notebook__.ipynb",
   "output_path": "__notebook__.ipynb",
   "parameters": {},
   "start_time": "2021-03-22T19:58:12.353031",
   "version": "2.2.2"
  }
 },
 "nbformat": 4,
 "nbformat_minor": 4
}
