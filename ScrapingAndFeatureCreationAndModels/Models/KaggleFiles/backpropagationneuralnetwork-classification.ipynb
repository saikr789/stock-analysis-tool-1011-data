{
 "cells": [
  {
   "cell_type": "code",
   "execution_count": 1,
   "metadata": {
    "_cell_guid": "b1076dfc-b9ad-4769-8c92-a6c4dae69d19",
    "_uuid": "8f2839f25d086af736a60e9eeb907d3b93b6e0e5",
    "execution": {
     "iopub.execute_input": "2021-03-22T20:25:48.414897Z",
     "iopub.status.busy": "2021-03-22T20:25:48.414189Z",
     "iopub.status.idle": "2021-03-22T20:25:48.526474Z",
     "shell.execute_reply": "2021-03-22T20:25:48.525102Z"
    },
    "papermill": {
     "duration": 0.130405,
     "end_time": "2021-03-22T20:25:48.526736",
     "exception": false,
     "start_time": "2021-03-22T20:25:48.396331",
     "status": "completed"
    },
    "tags": []
   },
   "outputs": [
    {
     "name": "stdout",
     "output_type": "stream",
     "text": [
      "/kaggle/input/stockdata/new.csv\n",
      "/kaggle/input/stockdata/top.csv\n",
      "/kaggle/input/stockdata/all.csv\n",
      "/kaggle/input/stockdata/Data/modIndex.csv\n",
      "/kaggle/input/stockdata/Data/Index.csv\n",
      "/kaggle/input/stockdata/Data/RiskFreeRate.csv\n",
      "/kaggle/input/stockdata/Data/Equity.csv\n",
      "/kaggle/input/stockdata/Data/Stock/fc500770.csv\n",
      "/kaggle/input/stockdata/Data/Stock/532540.csv\n",
      "/kaggle/input/stockdata/Data/Stock/fc500325.csv\n",
      "/kaggle/input/stockdata/Data/Stock/fc532540.csv\n",
      "/kaggle/input/stockdata/Data/Stock/533155.csv\n",
      "/kaggle/input/stockdata/Data/Stock/500180.csv\n",
      "/kaggle/input/stockdata/Data/Stock/fc500085.csv\n",
      "/kaggle/input/stockdata/Data/Stock/fc533155.csv\n",
      "/kaggle/input/stockdata/Data/Stock/fc533260.csv\n",
      "/kaggle/input/stockdata/Data/Stock/gr500124.csv\n",
      "/kaggle/input/stockdata/Data/Stock/gr500182.csv\n",
      "/kaggle/input/stockdata/Data/Stock/gr500209.csv\n",
      "/kaggle/input/stockdata/Data/Stock/fc532210.csv\n",
      "/kaggle/input/stockdata/Data/Stock/532538.csv\n",
      "/kaggle/input/stockdata/Data/Stock/fc500680.csv\n",
      "/kaggle/input/stockdata/Data/Stock/gr537291.csv\n",
      "/kaggle/input/stockdata/Data/Stock/500182.csv\n",
      "/kaggle/input/stockdata/Data/Stock/fc532174.csv\n",
      "/kaggle/input/stockdata/Data/Stock/fc500124.csv\n",
      "/kaggle/input/stockdata/Data/Stock/fc500112.csv\n",
      "/kaggle/input/stockdata/Data/Stock/533260.csv\n",
      "/kaggle/input/stockdata/Data/Stock/532899.csv\n",
      "/kaggle/input/stockdata/Data/Stock/500425.csv\n",
      "/kaggle/input/stockdata/Data/Stock/fc506395.csv\n",
      "/kaggle/input/stockdata/Data/Stock/fc532899.csv\n",
      "/kaggle/input/stockdata/Data/Stock/gr500770.csv\n",
      "/kaggle/input/stockdata/Data/Stock/fc542602.csv\n",
      "/kaggle/input/stockdata/Data/Stock/gr542602.csv\n",
      "/kaggle/input/stockdata/Data/Stock/fc533287.csv\n",
      "/kaggle/input/stockdata/Data/Stock/532163.csv\n",
      "/kaggle/input/stockdata/Data/Stock/fc532488.csv\n",
      "/kaggle/input/stockdata/Data/Stock/fc532163.csv\n",
      "/kaggle/input/stockdata/Data/Stock/gr532163.csv\n",
      "/kaggle/input/stockdata/Data/Stock/530965.csv\n",
      "/kaggle/input/stockdata/Data/Stock/542602.csv\n",
      "/kaggle/input/stockdata/Data/Stock/gr533155.csv\n",
      "/kaggle/input/stockdata/Data/Stock/537291.csv\n",
      "/kaggle/input/stockdata/Data/Stock/500124.csv\n",
      "/kaggle/input/stockdata/Data/Stock/fc500209.csv\n",
      "/kaggle/input/stockdata/Data/Stock/gr500680.csv\n",
      "/kaggle/input/stockdata/Data/Stock/gr530965.csv\n",
      "/kaggle/input/stockdata/Data/Stock/gr539921.csv\n",
      "/kaggle/input/stockdata/Data/Stock/gr532174.csv\n",
      "/kaggle/input/stockdata/Data/Stock/500112.csv\n",
      "/kaggle/input/stockdata/Data/Stock/500085.csv\n",
      "/kaggle/input/stockdata/Data/Stock/fc532689.csv\n",
      "/kaggle/input/stockdata/Data/Stock/524715.csv\n",
      "/kaggle/input/stockdata/Data/Stock/fc532706.csv\n",
      "/kaggle/input/stockdata/Data/Stock/gr532899.csv\n",
      "/kaggle/input/stockdata/Data/Stock/fc500790.csv\n",
      "/kaggle/input/stockdata/Data/Stock/506395.csv\n",
      "/kaggle/input/stockdata/Data/Stock/507685.csv\n",
      "/kaggle/input/stockdata/Data/Stock/fc501425.csv\n",
      "/kaggle/input/stockdata/Data/Stock/532706.csv\n",
      "/kaggle/input/stockdata/Data/Stock/gr532689.csv\n",
      "/kaggle/input/stockdata/Data/Stock/fc524715.csv\n",
      "/kaggle/input/stockdata/Data/Stock/539921.csv\n",
      "/kaggle/input/stockdata/Data/Stock/gr524715.csv\n",
      "/kaggle/input/stockdata/Data/Stock/532174.csv\n",
      "/kaggle/input/stockdata/Data/Stock/533287.csv\n",
      "/kaggle/input/stockdata/Data/Stock/543217.csv\n",
      "/kaggle/input/stockdata/Data/Stock/fc500182.csv\n",
      "/kaggle/input/stockdata/Data/Stock/501425.csv\n",
      "/kaggle/input/stockdata/Data/Stock/500387.csv\n",
      "/kaggle/input/stockdata/Data/Stock/gr532706.csv\n",
      "/kaggle/input/stockdata/Data/Stock/500680.csv\n",
      "/kaggle/input/stockdata/Data/Stock/532210.csv\n",
      "/kaggle/input/stockdata/Data/Stock/fc500387.csv\n",
      "/kaggle/input/stockdata/Data/Stock/fc532538.csv\n",
      "/kaggle/input/stockdata/Data/Stock/gr532210.csv\n",
      "/kaggle/input/stockdata/Data/Stock/gr532540.csv\n",
      "/kaggle/input/stockdata/Data/Stock/fc500825.csv\n",
      "/kaggle/input/stockdata/Data/Stock/fc539921.csv\n",
      "/kaggle/input/stockdata/Data/Stock/gr533260.csv\n",
      "/kaggle/input/stockdata/Data/Stock/fc507685.csv\n",
      "/kaggle/input/stockdata/Data/Stock/gr500325.csv\n",
      "/kaggle/input/stockdata/Data/Stock/500790.csv\n",
      "/kaggle/input/stockdata/Data/Stock/gr500112.csv\n",
      "/kaggle/input/stockdata/Data/Stock/500325.csv\n",
      "/kaggle/input/stockdata/Data/Stock/gr500180.csv\n",
      "/kaggle/input/stockdata/Data/Stock/500209.csv\n",
      "/kaggle/input/stockdata/Data/Stock/gr532538.csv\n",
      "/kaggle/input/stockdata/Data/Stock/fc500180.csv\n",
      "/kaggle/input/stockdata/Data/Stock/gr500790.csv\n",
      "/kaggle/input/stockdata/Data/Stock/gr501425.csv\n",
      "/kaggle/input/stockdata/Data/Stock/gr500387.csv\n",
      "/kaggle/input/stockdata/Data/Stock/fc530965.csv\n",
      "/kaggle/input/stockdata/Data/Stock/543261.csv\n",
      "/kaggle/input/stockdata/Data/Stock/gr500825.csv\n",
      "/kaggle/input/stockdata/Data/Stock/gr506395.csv\n",
      "/kaggle/input/stockdata/Data/Stock/gr532488.csv\n",
      "/kaggle/input/stockdata/Data/Stock/532689.csv\n",
      "/kaggle/input/stockdata/Data/Stock/fc537291.csv\n",
      "/kaggle/input/stockdata/Data/Stock/532488.csv\n",
      "/kaggle/input/stockdata/Data/Stock/gr507685.csv\n",
      "/kaggle/input/stockdata/Data/Stock/500770.csv\n",
      "/kaggle/input/stockdata/Data/Stock/500825.csv\n",
      "/kaggle/input/stockdata/Data/Stock/gr500085.csv\n",
      "/kaggle/input/stockdata/Data/Stock/gr533287.csv\n",
      "/kaggle/input/stockdata/Data/CorporateActions/532540.csv\n",
      "/kaggle/input/stockdata/Data/CorporateActions/533155.csv\n",
      "/kaggle/input/stockdata/Data/CorporateActions/500180.csv\n",
      "/kaggle/input/stockdata/Data/CorporateActions/546261.csv\n",
      "/kaggle/input/stockdata/Data/CorporateActions/532538.csv\n",
      "/kaggle/input/stockdata/Data/CorporateActions/500182.csv\n",
      "/kaggle/input/stockdata/Data/CorporateActions/534261.csv\n",
      "/kaggle/input/stockdata/Data/CorporateActions/533260.csv\n",
      "/kaggle/input/stockdata/Data/CorporateActions/532899.csv\n",
      "/kaggle/input/stockdata/Data/CorporateActions/500425.csv\n",
      "/kaggle/input/stockdata/Data/CorporateActions/532163.csv\n",
      "/kaggle/input/stockdata/Data/CorporateActions/530965.csv\n",
      "/kaggle/input/stockdata/Data/CorporateActions/542602.csv\n",
      "/kaggle/input/stockdata/Data/CorporateActions/537291.csv\n",
      "/kaggle/input/stockdata/Data/CorporateActions/500124.csv\n",
      "/kaggle/input/stockdata/Data/CorporateActions/500112.csv\n",
      "/kaggle/input/stockdata/Data/CorporateActions/500085.csv\n",
      "/kaggle/input/stockdata/Data/CorporateActions/524715.csv\n",
      "/kaggle/input/stockdata/Data/CorporateActions/506395.csv\n",
      "/kaggle/input/stockdata/Data/CorporateActions/507685.csv\n",
      "/kaggle/input/stockdata/Data/CorporateActions/532706.csv\n",
      "/kaggle/input/stockdata/Data/CorporateActions/539921.csv\n",
      "/kaggle/input/stockdata/Data/CorporateActions/532174.csv\n",
      "/kaggle/input/stockdata/Data/CorporateActions/533287.csv\n",
      "/kaggle/input/stockdata/Data/CorporateActions/543217.csv\n",
      "/kaggle/input/stockdata/Data/CorporateActions/501425.csv\n",
      "/kaggle/input/stockdata/Data/CorporateActions/500387.csv\n",
      "/kaggle/input/stockdata/Data/CorporateActions/500680.csv\n",
      "/kaggle/input/stockdata/Data/CorporateActions/532210.csv\n",
      "/kaggle/input/stockdata/Data/CorporateActions/500002.csv\n",
      "/kaggle/input/stockdata/Data/CorporateActions/500790.csv\n",
      "/kaggle/input/stockdata/Data/CorporateActions/500325.csv\n",
      "/kaggle/input/stockdata/Data/CorporateActions/500209.csv\n",
      "/kaggle/input/stockdata/Data/CorporateActions/532689.csv\n",
      "/kaggle/input/stockdata/Data/CorporateActions/532488.csv\n",
      "/kaggle/input/stockdata/Data/CorporateActions/500770.csv\n",
      "/kaggle/input/stockdata/Data/CorporateActions/500825.csv\n",
      "/kaggle/input/stockdata/Data/Revenue/532540.csv\n",
      "/kaggle/input/stockdata/Data/Revenue/533155.csv\n",
      "/kaggle/input/stockdata/Data/Revenue/500180.csv\n",
      "/kaggle/input/stockdata/Data/Revenue/532538.csv\n",
      "/kaggle/input/stockdata/Data/Revenue/500182.csv\n",
      "/kaggle/input/stockdata/Data/Revenue/533260.csv\n",
      "/kaggle/input/stockdata/Data/Revenue/532899.csv\n",
      "/kaggle/input/stockdata/Data/Revenue/500425.csv\n",
      "/kaggle/input/stockdata/Data/Revenue/532163.csv\n",
      "/kaggle/input/stockdata/Data/Revenue/530965.csv\n",
      "/kaggle/input/stockdata/Data/Revenue/542602.csv\n",
      "/kaggle/input/stockdata/Data/Revenue/537291.csv\n",
      "/kaggle/input/stockdata/Data/Revenue/500124.csv\n",
      "/kaggle/input/stockdata/Data/Revenue/500112.csv\n",
      "/kaggle/input/stockdata/Data/Revenue/500085.csv\n",
      "/kaggle/input/stockdata/Data/Revenue/524715.csv\n",
      "/kaggle/input/stockdata/Data/Revenue/506395.csv\n",
      "/kaggle/input/stockdata/Data/Revenue/507685.csv\n",
      "/kaggle/input/stockdata/Data/Revenue/532706.csv\n",
      "/kaggle/input/stockdata/Data/Revenue/539921.csv\n",
      "/kaggle/input/stockdata/Data/Revenue/532174.csv\n",
      "/kaggle/input/stockdata/Data/Revenue/533287.csv\n",
      "/kaggle/input/stockdata/Data/Revenue/543217.csv\n",
      "/kaggle/input/stockdata/Data/Revenue/501425.csv\n",
      "/kaggle/input/stockdata/Data/Revenue/500387.csv\n",
      "/kaggle/input/stockdata/Data/Revenue/500680.csv\n",
      "/kaggle/input/stockdata/Data/Revenue/532210.csv\n",
      "/kaggle/input/stockdata/Data/Revenue/500002.csv\n",
      "/kaggle/input/stockdata/Data/Revenue/500790.csv\n",
      "/kaggle/input/stockdata/Data/Revenue/500325.csv\n",
      "/kaggle/input/stockdata/Data/Revenue/500209.csv\n",
      "/kaggle/input/stockdata/Data/Revenue/543261.csv\n",
      "/kaggle/input/stockdata/Data/Revenue/532689.csv\n",
      "/kaggle/input/stockdata/Data/Revenue/532488.csv\n",
      "/kaggle/input/stockdata/Data/Revenue/500770.csv\n",
      "/kaggle/input/stockdata/Data/Revenue/500825.csv\n"
     ]
    }
   ],
   "source": [
    "# This Python 3 environment comes with many helpful analytics libraries installed\n",
    "# It is defined by the kaggle/python Docker image: https://github.com/kaggle/docker-python\n",
    "# For example, here's several helpful packages to load\n",
    "\n",
    "import numpy as np # linear algebra\n",
    "import pandas as pd # data processing, CSV file I/O (e.g. pd.read_csv)\n",
    "\n",
    "# Input data files are available in the read-only \"../input/\" directory\n",
    "# For example, running this (by clicking run or pressing Shift+Enter) will list all files under the input directory\n",
    "\n",
    "import os\n",
    "for dirname, _, filenames in os.walk('/kaggle/input'):\n",
    "    for filename in filenames:\n",
    "        print(os.path.join(dirname, filename))\n",
    "\n",
    "# You can write up to 20GB to the current directory (/kaggle/working/) that gets preserved as output when you create a version using \"Save & Run All\" \n",
    "# You can also write temporary files to /kaggle/temp/, but they won't be saved outside of the current session"
   ]
  },
  {
   "cell_type": "code",
   "execution_count": 2,
   "metadata": {
    "execution": {
     "iopub.execute_input": "2021-03-22T20:25:48.556930Z",
     "iopub.status.busy": "2021-03-22T20:25:48.556068Z",
     "iopub.status.idle": "2021-03-22T20:25:55.992275Z",
     "shell.execute_reply": "2021-03-22T20:25:55.992867Z"
    },
    "papermill": {
     "duration": 7.45463,
     "end_time": "2021-03-22T20:25:55.993064",
     "exception": false,
     "start_time": "2021-03-22T20:25:48.538434",
     "status": "completed"
    },
    "tags": []
   },
   "outputs": [],
   "source": [
    "import numpy as np\n",
    "import pandas as pd\n",
    "from sklearn.model_selection import train_test_split\n",
    "\n",
    "from tensorflow import keras\n",
    "from keras.layers import Dense, Dropout\n",
    "from tensorflow.keras import layers\n",
    "from keras.layers import Activation\n",
    "from keras.models import Sequential\n",
    "from keras.wrappers.scikit_learn import KerasClassifier\n",
    "import tensorflow as tf\n",
    "from sklearn.model_selection import GridSearchCV\n",
    "from sklearn.metrics import precision_score, make_scorer\n",
    "\n",
    "from sklearn import metrics\n",
    "from sklearn.metrics import confusion_matrix\n",
    "from math import sqrt\n",
    "import traceback\n",
    "from multiprocessing.pool import ThreadPool\n"
   ]
  },
  {
   "cell_type": "code",
   "execution_count": 3,
   "metadata": {
    "execution": {
     "iopub.execute_input": "2021-03-22T20:25:56.018618Z",
     "iopub.status.busy": "2021-03-22T20:25:56.017958Z",
     "iopub.status.idle": "2021-03-22T20:25:56.022490Z",
     "shell.execute_reply": "2021-03-22T20:25:56.023084Z"
    },
    "papermill": {
     "duration": 0.019011,
     "end_time": "2021-03-22T20:25:56.023277",
     "exception": false,
     "start_time": "2021-03-22T20:25:56.004266",
     "status": "completed"
    },
    "tags": []
   },
   "outputs": [],
   "source": [
    "import warnings; warnings.simplefilter('ignore')"
   ]
  },
  {
   "cell_type": "code",
   "execution_count": 4,
   "metadata": {
    "execution": {
     "iopub.execute_input": "2021-03-22T20:25:56.049054Z",
     "iopub.status.busy": "2021-03-22T20:25:56.048353Z",
     "iopub.status.idle": "2021-03-22T20:25:56.056152Z",
     "shell.execute_reply": "2021-03-22T20:25:56.056799Z"
    },
    "papermill": {
     "duration": 0.022639,
     "end_time": "2021-03-22T20:25:56.056995",
     "exception": false,
     "start_time": "2021-03-22T20:25:56.034356",
     "status": "completed"
    },
    "tags": []
   },
   "outputs": [],
   "source": [
    "def pre_process_data(data,null_threshold):\n",
    "    \"\"\"\n",
    "    Drops Date and Unix Date columns from the data.\n",
    "    Drops the columns which has null values more than specified null_threshold.\n",
    "    Replaces infinite values with NAN.\n",
    "    Drops the rows which has null values.\n",
    "\n",
    "    Parameters\n",
    "    ----------\n",
    "    data : dataframe\n",
    "\n",
    "    null_threshold : numeric\n",
    "        numeric value describing the amount of null values that can be present.\n",
    "\n",
    "    Returns\n",
    "    -------\n",
    "    data : dataframe\n",
    "        an updated dataframe after performing all the opertaions.\n",
    "    \"\"\"\n",
    "    \n",
    "    data.drop(columns=['Unix Date','Date'],axis=1,inplace=True)\n",
    "    total = data.shape[0]\n",
    "    for col in data.columns:\n",
    "        if null_threshold * total / 100 < data[col].isnull().sum():\n",
    "            data.drop(columns=[col],axis=1,inplace=True)\n",
    "    data.replace([np.inf, -np.inf], np.nan, inplace=True)\n",
    "    data = data.apply(pd.to_numeric,errors='coerce')\n",
    "    data.dropna(axis=0,inplace=True)\n",
    "    return data"
   ]
  },
  {
   "cell_type": "code",
   "execution_count": 5,
   "metadata": {
    "execution": {
     "iopub.execute_input": "2021-03-22T20:25:56.082981Z",
     "iopub.status.busy": "2021-03-22T20:25:56.082233Z",
     "iopub.status.idle": "2021-03-22T20:25:56.089488Z",
     "shell.execute_reply": "2021-03-22T20:25:56.088896Z"
    },
    "papermill": {
     "duration": 0.021486,
     "end_time": "2021-03-22T20:25:56.089650",
     "exception": false,
     "start_time": "2021-03-22T20:25:56.068164",
     "status": "completed"
    },
    "tags": []
   },
   "outputs": [],
   "source": [
    "def dependent_column(data,column):\n",
    "    \"\"\"\n",
    "    Removes all the Next Day columns.\n",
    "    Removes all the non Growth Rate Columns (GR)\n",
    "    add the predictor column to list of columns.\n",
    "\n",
    "    Parameters\n",
    "    ----------\n",
    "    data : dataframe\n",
    "\n",
    "    column : string\n",
    "        name of the predictor column \n",
    "\n",
    "    Returns\n",
    "    -------\n",
    "    data : dataframe\n",
    "        an updated dataframe after performing all the opertaions.\n",
    "    column : string\n",
    "        name of the predictor column\n",
    "    \"\"\"\n",
    "    cols = [col for col in data.columns if \"next\" not in col.lower() and col.lower().endswith(\"gr\")]\n",
    "    cols.append(column)\n",
    "    data = data[cols]\n",
    "    return (data,column)"
   ]
  },
  {
   "cell_type": "code",
   "execution_count": 6,
   "metadata": {
    "execution": {
     "iopub.execute_input": "2021-03-22T20:25:56.119446Z",
     "iopub.status.busy": "2021-03-22T20:25:56.118595Z",
     "iopub.status.idle": "2021-03-22T20:25:56.122008Z",
     "shell.execute_reply": "2021-03-22T20:25:56.121279Z"
    },
    "papermill": {
     "duration": 0.021045,
     "end_time": "2021-03-22T20:25:56.122182",
     "exception": false,
     "start_time": "2021-03-22T20:25:56.101137",
     "status": "completed"
    },
    "tags": []
   },
   "outputs": [],
   "source": [
    "def error_metrics(y_true, y_pred):\n",
    "    rmse = sqrt(metrics.mean_squared_error(y_true, y_pred))\n",
    "    mae = metrics.mean_absolute_error(y_true, y_pred)\n",
    "    mse = metrics.mean_squared_error(y_true, y_pred)\n",
    "    return {\"root_mean_squared_error\":rmse,\"mean_absolute_error\":mae,\"mean_squared_error\":mse}"
   ]
  },
  {
   "cell_type": "code",
   "execution_count": 7,
   "metadata": {
    "execution": {
     "iopub.execute_input": "2021-03-22T20:25:56.149561Z",
     "iopub.status.busy": "2021-03-22T20:25:56.148858Z",
     "iopub.status.idle": "2021-03-22T20:25:56.154678Z",
     "shell.execute_reply": "2021-03-22T20:25:56.155319Z"
    },
    "papermill": {
     "duration": 0.021394,
     "end_time": "2021-03-22T20:25:56.155509",
     "exception": false,
     "start_time": "2021-03-22T20:25:56.134115",
     "status": "completed"
    },
    "tags": []
   },
   "outputs": [],
   "source": [
    "def create_confusion_matrix(y_pred,y_true):\n",
    "    \n",
    "    cm = confusion_matrix(y_true,y_pred)\n",
    "    accuracy = metrics.accuracy_score(y_true,y_pred)\n",
    "    precision = metrics.precision_score(y_true,y_pred)\n",
    "    recall = metrics.recall_score(y_true,y_pred)\n",
    "    f1_score = metrics.f1_score(y_true,y_pred)\n",
    "    return {\"accuracy\":accuracy,\"precision\":precision,\"recall\":recall,\"f1_score\":f1_score,\"confusion matrix\":cm}"
   ]
  },
  {
   "cell_type": "code",
   "execution_count": 8,
   "metadata": {
    "execution": {
     "iopub.execute_input": "2021-03-22T20:25:56.190024Z",
     "iopub.status.busy": "2021-03-22T20:25:56.189310Z",
     "iopub.status.idle": "2021-03-22T20:25:56.192585Z",
     "shell.execute_reply": "2021-03-22T20:25:56.192042Z"
    },
    "papermill": {
     "duration": 0.024745,
     "end_time": "2021-03-22T20:25:56.192741",
     "exception": false,
     "start_time": "2021-03-22T20:25:56.167996",
     "status": "completed"
    },
    "tags": []
   },
   "outputs": [],
   "source": [
    "from keras import backend as K\n",
    "def f1_score(y_true, y_pred):\n",
    "    def recall(y_true, y_pred):\n",
    "        true_positives = K.sum(K.round(K.clip(y_true * y_pred, 0, 1)))\n",
    "        possible_positives = K.sum(K.round(K.clip(y_true, 0, 1)))\n",
    "        recall = true_positives / (possible_positives + K.epsilon())\n",
    "        return recall\n",
    "\n",
    "    def precision(y_true, y_pred):\n",
    "        true_positives = K.sum(K.round(K.clip(y_true * y_pred, 0, 1)))\n",
    "        predicted_positives = K.sum(K.round(K.clip(y_pred, 0, 1)))\n",
    "        precision = true_positives / (predicted_positives + K.epsilon())\n",
    "        return precision\n",
    "    precision = precision(y_true, y_pred)\n",
    "    recall = recall(y_true, y_pred)\n",
    "    return 2*((precision*recall)/(precision+recall+K.epsilon()))"
   ]
  },
  {
   "cell_type": "code",
   "execution_count": 9,
   "metadata": {
    "execution": {
     "iopub.execute_input": "2021-03-22T20:25:56.223314Z",
     "iopub.status.busy": "2021-03-22T20:25:56.222598Z",
     "iopub.status.idle": "2021-03-22T20:25:56.224674Z",
     "shell.execute_reply": "2021-03-22T20:25:56.225206Z"
    },
    "papermill": {
     "duration": 0.020774,
     "end_time": "2021-03-22T20:25:56.225391",
     "exception": false,
     "start_time": "2021-03-22T20:25:56.204617",
     "status": "completed"
    },
    "tags": []
   },
   "outputs": [],
   "source": [
    "def create_model_b(input_dim,layers=3,units = 32):\n",
    "    model = Sequential()\n",
    "    model.add(Dense(units=units,input_dim=(input_dim),activation = 'relu'))\n",
    "    model.add(Dense(units=units,activation = 'relu'))\n",
    "    model.add(Dense(units = 1,activation = 'sigmoid'))\n",
    "    model.compile(loss=\"binary_crossentropy\", optimizer=\"Adam\", metrics=f1_score)\n",
    "    return model"
   ]
  },
  {
   "cell_type": "code",
   "execution_count": 10,
   "metadata": {
    "execution": {
     "iopub.execute_input": "2021-03-22T20:25:56.253043Z",
     "iopub.status.busy": "2021-03-22T20:25:56.252308Z",
     "iopub.status.idle": "2021-03-22T20:25:56.262685Z",
     "shell.execute_reply": "2021-03-22T20:25:56.261964Z"
    },
    "papermill": {
     "duration": 0.025459,
     "end_time": "2021-03-22T20:25:56.262856",
     "exception": false,
     "start_time": "2021-03-22T20:25:56.237397",
     "status": "completed"
    },
    "tags": []
   },
   "outputs": [],
   "source": [
    "def best_params_bpnn(X,Y):\n",
    "    custom_scorer = make_scorer(metrics.f1_score, greater_is_better=True,pos_label = 1)\n",
    "    \n",
    "    input_dim = X.shape[1]\n",
    "    X = np.array(X)\n",
    "    X = np.reshape(X,(X.shape[0],X.shape[1]))\n",
    "    Y = np.array(Y)\n",
    "    Y = np.reshape(Y,(Y.shape[0],1))\n",
    "    \n",
    "    model = KerasClassifier(build_fn = create_model_b,input_dim = input_dim,verbose=0) \n",
    "    \n",
    "    batch_size = [25,32,48,64,100]\n",
    "    epochs = [25,50,75,100]\n",
    "    param_grid = dict(epochs=epochs,batch_size=batch_size)   \n",
    "    \n",
    "    grid = GridSearchCV(estimator=model, param_grid=param_grid,n_jobs=-1,scoring=custom_scorer,verbose=0)\n",
    "    grid_result = grid.fit(X,Y)\n",
    "    batch_size, epochs = grid_result.best_params_['batch_size'],grid_result.best_params_['epochs']\n",
    "    \n",
    "    return batch_size, epochs"
   ]
  },
  {
   "cell_type": "code",
   "execution_count": 11,
   "metadata": {
    "execution": {
     "iopub.execute_input": "2021-03-22T20:25:56.299720Z",
     "iopub.status.busy": "2021-03-22T20:25:56.298983Z",
     "iopub.status.idle": "2021-03-22T20:25:56.302569Z",
     "shell.execute_reply": "2021-03-22T20:25:56.302022Z"
    },
    "papermill": {
     "duration": 0.027497,
     "end_time": "2021-03-22T20:25:56.302727",
     "exception": false,
     "start_time": "2021-03-22T20:25:56.275230",
     "status": "completed"
    },
    "tags": []
   },
   "outputs": [],
   "source": [
    "def create_bpnn_classification(df,column,epochs,batch_size,rate):\n",
    "    df[\"Target\"] = df[column].apply(lambda x : 1 if x >= rate else 0)\n",
    "    X = df.drop(columns=[\"Target\",column])\n",
    "    Y = df[\"Target\"]\n",
    "    x_train, x_test, y_train, y_test = train_test_split(X, Y, test_size=0.3,random_state = 0)\n",
    "    input_dim = x_train.shape[1]\n",
    "\n",
    "    x_train = np.array(x_train)\n",
    "    x_train = np.reshape(x_train,(x_train.shape[0],x_train.shape[1]))\n",
    "    x_test = np.array(x_test)\n",
    "    x_test = np.reshape(x_test,(x_test.shape[0],x_test.shape[1]))\n",
    "    y_test = np.array(y_test)\n",
    "    y_test = np.reshape(y_test,(y_test.shape[0],1))\n",
    "    \n",
    "#     model = KerasClassifier(build_fn = create_model_b, batch_size=batch_size, epochs=epochs,input_dim = input_dim) \n",
    "    model = create_model_b(input_dim)\n",
    "    history = model.fit(x_train,y_train,epochs = epochs,batch_size = batch_size, validation_data = (x_test,y_test),shuffle = False,verbose=0)\n",
    "\n",
    "    y_pred = model.predict(x_test)\n",
    "    y_pred = np.array(y_pred)\n",
    "    y_pred = np.reshape(y_pred,(y_pred.shape[0],1)).round()\n",
    "    \n",
    "    result = {}\n",
    "    error = error_metrics(y_test, y_pred)\n",
    "    confusion = create_confusion_matrix(y_test,y_pred)\n",
    "    result.update(error)\n",
    "    result.update(confusion)\n",
    "    return result"
   ]
  },
  {
   "cell_type": "code",
   "execution_count": 12,
   "metadata": {
    "execution": {
     "iopub.execute_input": "2021-03-22T20:25:56.336475Z",
     "iopub.status.busy": "2021-03-22T20:25:56.335563Z",
     "iopub.status.idle": "2021-03-22T20:25:56.338878Z",
     "shell.execute_reply": "2021-03-22T20:25:56.338218Z"
    },
    "papermill": {
     "duration": 0.024,
     "end_time": "2021-03-22T20:25:56.339055",
     "exception": false,
     "start_time": "2021-03-22T20:25:56.315055",
     "status": "completed"
    },
    "tags": []
   },
   "outputs": [],
   "source": [
    "def bpnn_classification(df, column = \"Next Day Close Price GR\"):\n",
    "    rate_of_growth = [0.01,0.02,0.03,0.04,0.05]\n",
    "    solution = list()\n",
    "    for t in rate_of_growth:\n",
    "        df[\"Target\"] = df[column].apply(lambda x : 1 if x >= 0.01 else 0)\n",
    "        X = df.drop(columns=[\"Target\",column])\n",
    "        Y = df[\"Target\"]\n",
    "        X_train, X_test, y_train, y_test = train_test_split(X, Y, test_size=0.3, random_state=0)\n",
    "        batch_size, epochs = best_params_bpnn(X_train,y_train)\n",
    "        result = create_bpnn_classification(df,column = \"Next Day Close Price GR\",epochs = epochs,batch_size = batch_size,rate = t)\n",
    "        result.update({\"batch_size\":batch_size,\"epochs\":epochs,\"rate_of_growth\":t})\n",
    "        solution.append(result)\n",
    "    return solution"
   ]
  },
  {
   "cell_type": "code",
   "execution_count": 13,
   "metadata": {
    "execution": {
     "iopub.execute_input": "2021-03-22T20:25:56.370227Z",
     "iopub.status.busy": "2021-03-22T20:25:56.369511Z",
     "iopub.status.idle": "2021-03-22T20:25:56.390720Z",
     "shell.execute_reply": "2021-03-22T20:25:56.389045Z"
    },
    "papermill": {
     "duration": 0.039539,
     "end_time": "2021-03-22T20:25:56.390914",
     "exception": false,
     "start_time": "2021-03-22T20:25:56.351375",
     "status": "completed"
    },
    "tags": []
   },
   "outputs": [],
   "source": [
    "total = pd.read_csv(\"/kaggle/input/stockdata/all.csv\")\n",
    "inputpath  = \"/kaggle/input/stockdata/Data/Stock\""
   ]
  },
  {
   "cell_type": "code",
   "execution_count": 14,
   "metadata": {
    "execution": {
     "iopub.execute_input": "2021-03-22T20:25:56.431028Z",
     "iopub.status.busy": "2021-03-22T20:25:56.430162Z",
     "iopub.status.idle": "2021-03-23T03:29:17.563736Z",
     "shell.execute_reply": "2021-03-23T03:29:17.564368Z"
    },
    "papermill": {
     "duration": 25401.161077,
     "end_time": "2021-03-23T03:29:17.564602",
     "exception": false,
     "start_time": "2021-03-22T20:25:56.403525",
     "status": "completed"
    },
    "tags": []
   },
   "outputs": [
    {
     "name": "stderr",
     "output_type": "stream",
     "text": [
      "Traceback (most recent call last):\n",
      "  File \"<timed exec>\", line 4, in <module>\n",
      "  File \"/opt/conda/lib/python3.7/site-packages/pandas/io/parsers.py\", line 605, in read_csv\n",
      "    return _read(filepath_or_buffer, kwds)\n",
      "  File \"/opt/conda/lib/python3.7/site-packages/pandas/io/parsers.py\", line 457, in _read\n",
      "    parser = TextFileReader(filepath_or_buffer, **kwds)\n",
      "  File \"/opt/conda/lib/python3.7/site-packages/pandas/io/parsers.py\", line 814, in __init__\n",
      "    self._engine = self._make_engine(self.engine)\n",
      "  File \"/opt/conda/lib/python3.7/site-packages/pandas/io/parsers.py\", line 1045, in _make_engine\n",
      "    return mapping[engine](self.f, **self.options)  # type: ignore[call-arg]\n",
      "  File \"/opt/conda/lib/python3.7/site-packages/pandas/io/parsers.py\", line 1862, in __init__\n",
      "    self._open_handles(src, kwds)\n",
      "  File \"/opt/conda/lib/python3.7/site-packages/pandas/io/parsers.py\", line 1363, in _open_handles\n",
      "    storage_options=kwds.get(\"storage_options\", None),\n",
      "  File \"/opt/conda/lib/python3.7/site-packages/pandas/io/common.py\", line 644, in get_handle\n",
      "    newline=\"\",\n",
      "FileNotFoundError: [Errno 2] No such file or directory: '/kaggle/input/stockdata/Data/Stock/gr543217.csv'\n",
      "Traceback (most recent call last):\n",
      "  File \"<timed exec>\", line 4, in <module>\n",
      "  File \"/opt/conda/lib/python3.7/site-packages/pandas/io/parsers.py\", line 605, in read_csv\n",
      "    return _read(filepath_or_buffer, kwds)\n",
      "  File \"/opt/conda/lib/python3.7/site-packages/pandas/io/parsers.py\", line 457, in _read\n",
      "    parser = TextFileReader(filepath_or_buffer, **kwds)\n",
      "  File \"/opt/conda/lib/python3.7/site-packages/pandas/io/parsers.py\", line 814, in __init__\n",
      "    self._engine = self._make_engine(self.engine)\n",
      "  File \"/opt/conda/lib/python3.7/site-packages/pandas/io/parsers.py\", line 1045, in _make_engine\n",
      "    return mapping[engine](self.f, **self.options)  # type: ignore[call-arg]\n",
      "  File \"/opt/conda/lib/python3.7/site-packages/pandas/io/parsers.py\", line 1862, in __init__\n",
      "    self._open_handles(src, kwds)\n",
      "  File \"/opt/conda/lib/python3.7/site-packages/pandas/io/parsers.py\", line 1363, in _open_handles\n",
      "    storage_options=kwds.get(\"storage_options\", None),\n",
      "  File \"/opt/conda/lib/python3.7/site-packages/pandas/io/common.py\", line 644, in get_handle\n",
      "    newline=\"\",\n",
      "FileNotFoundError: [Errno 2] No such file or directory: '/kaggle/input/stockdata/Data/Stock/gr543261.csv'\n",
      "Traceback (most recent call last):\n",
      "  File \"<timed exec>\", line 4, in <module>\n",
      "  File \"/opt/conda/lib/python3.7/site-packages/pandas/io/parsers.py\", line 605, in read_csv\n",
      "    return _read(filepath_or_buffer, kwds)\n",
      "  File \"/opt/conda/lib/python3.7/site-packages/pandas/io/parsers.py\", line 457, in _read\n",
      "    parser = TextFileReader(filepath_or_buffer, **kwds)\n",
      "  File \"/opt/conda/lib/python3.7/site-packages/pandas/io/parsers.py\", line 814, in __init__\n",
      "    self._engine = self._make_engine(self.engine)\n",
      "  File \"/opt/conda/lib/python3.7/site-packages/pandas/io/parsers.py\", line 1045, in _make_engine\n",
      "    return mapping[engine](self.f, **self.options)  # type: ignore[call-arg]\n",
      "  File \"/opt/conda/lib/python3.7/site-packages/pandas/io/parsers.py\", line 1862, in __init__\n",
      "    self._open_handles(src, kwds)\n",
      "  File \"/opt/conda/lib/python3.7/site-packages/pandas/io/parsers.py\", line 1363, in _open_handles\n",
      "    storage_options=kwds.get(\"storage_options\", None),\n",
      "  File \"/opt/conda/lib/python3.7/site-packages/pandas/io/common.py\", line 644, in get_handle\n",
      "    newline=\"\",\n",
      "FileNotFoundError: [Errno 2] No such file or directory: '/kaggle/input/stockdata/Data/Stock/gr500425.csv'\n"
     ]
    },
    {
     "name": "stdout",
     "output_type": "stream",
     "text": [
      "CPU times: user 1h 26min 3s, sys: 9min 59s, total: 1h 36min 2s\n",
      "Wall time: 7h 3min 21s\n"
     ]
    }
   ],
   "source": [
    "%%time\n",
    "for _,row in total.iterrows():\n",
    "    security_id = row['security id']\n",
    "    try:\n",
    "        df = pd.read_csv(os.path.join(inputpath,\"gr\"+str(security_id)+\".csv\"))\n",
    "        df = pre_process_data(df,60)\n",
    "        df,column = dependent_column(df, column = \"Next Day Close Price GR\")\n",
    "        bpnn_res = bpnn_classification(df)\n",
    "        bpnn_df = pd.DataFrame(bpnn_res)\n",
    "        bpnn_df.to_csv('bpnn_'+str(security_id)+\".csv\",index=None)\n",
    "    except Exception as e:\n",
    "        traceback.print_exc() \n",
    "        continue"
   ]
  },
  {
   "cell_type": "code",
   "execution_count": null,
   "metadata": {
    "papermill": {
     "duration": 0.012587,
     "end_time": "2021-03-23T03:29:17.589975",
     "exception": false,
     "start_time": "2021-03-23T03:29:17.577388",
     "status": "completed"
    },
    "tags": []
   },
   "outputs": [],
   "source": []
  }
 ],
 "metadata": {
  "kernelspec": {
   "display_name": "Python 3",
   "language": "python",
   "name": "python3"
  },
  "language_info": {
   "codemirror_mode": {
    "name": "ipython",
    "version": 3
   },
   "file_extension": ".py",
   "mimetype": "text/x-python",
   "name": "python",
   "nbconvert_exporter": "python",
   "pygments_lexer": "ipython3",
   "version": "3.7.9"
  },
  "papermill": {
   "default_parameters": {},
   "duration": 25417.591673,
   "end_time": "2021-03-23T03:29:19.518304",
   "environment_variables": {},
   "exception": null,
   "input_path": "__notebook__.ipynb",
   "output_path": "__notebook__.ipynb",
   "parameters": {},
   "start_time": "2021-03-22T20:25:41.926631",
   "version": "2.2.2"
  }
 },
 "nbformat": 4,
 "nbformat_minor": 4
}
