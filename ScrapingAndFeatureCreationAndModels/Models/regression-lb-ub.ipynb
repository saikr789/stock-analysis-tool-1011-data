{
 "cells": [
  {
   "cell_type": "code",
   "execution_count": null,
   "id": "golden-showcase",
   "metadata": {
    "_cell_guid": "b1076dfc-b9ad-4769-8c92-a6c4dae69d19",
    "_uuid": "8f2839f25d086af736a60e9eeb907d3b93b6e0e5",
    "execution": {
     "iopub.execute_input": "2021-05-03T14:39:24.610291Z",
     "iopub.status.busy": "2021-05-03T14:39:24.609124Z",
     "iopub.status.idle": "2021-05-03T14:39:33.193115Z",
     "shell.execute_reply": "2021-05-03T14:39:33.192407Z"
    },
    "papermill": {
     "duration": 8.601176,
     "end_time": "2021-05-03T14:39:33.193321",
     "exception": false,
     "start_time": "2021-05-03T14:39:24.592145",
     "status": "completed"
    },
    "tags": []
   },
   "outputs": [],
   "source": [
    "%%capture\n",
    "import pandas as pd\n",
    "import numpy as np \n",
    "import os\n",
    "import time \n",
    "import re\n",
    "import datetime\n",
    "import statsmodels.api as sm\n",
    "from keras.wrappers.scikit_learn import KerasRegressor\n",
    "from sklearn.model_selection import GridSearchCV,train_test_split\n",
    "from sklearn.linear_model import Ridge,Lasso,ElasticNet,LassoCV,RidgeCV,LinearRegression\n",
    "\n",
    "from sklearn.feature_selection import SelectKBest, chi2, SelectFromModel, SequentialFeatureSelector\n",
    "from sklearn.pipeline import Pipeline\n",
    "from sklearn.svm import LinearSVR,SVR\n",
    "from sklearn import preprocessing\n",
    "from keras.models import Sequential\n",
    "from keras.layers import Dense,LSTM,Dropout\n",
    "import tensorflow as tf\n",
    "from sklearn.preprocessing import StandardScaler\n",
    "from sklearn.neighbors import KNeighborsClassifier,KNeighborsRegressor\n",
    "from sklearn import metrics\n",
    "from sklearn.neighbors import DistanceMetric\n",
    "from sklearn.metrics import precision_score, make_scorer,f1_score\n",
    "import traceback\n",
    "import multiprocessing\n",
    "from multiprocessing.pool import ThreadPool\n",
    "import warnings\n",
    "warnings.filterwarnings(\"ignore\")\n"
   ]
  },
  {
   "cell_type": "code",
   "execution_count": null,
   "id": "cardiac-substitute",
   "metadata": {
    "execution": {
     "iopub.execute_input": "2021-05-03T14:39:33.220181Z",
     "iopub.status.busy": "2021-05-03T14:39:33.219554Z",
     "iopub.status.idle": "2021-05-03T14:39:33.227180Z",
     "shell.execute_reply": "2021-05-03T14:39:33.227748Z"
    },
    "papermill": {
     "duration": 0.02245,
     "end_time": "2021-05-03T14:39:33.227936",
     "exception": false,
     "start_time": "2021-05-03T14:39:33.205486",
     "status": "completed"
    },
    "tags": []
   },
   "outputs": [],
   "source": [
    "def pre_process_data(df, null_threshold):\n",
    "    \"\"\"\n",
    "    Drops Date and Unix Date columns from the data.\n",
    "    Drops the columns which has null values more than specified null_threshold.\n",
    "    Replaces infinite values with NAN.\n",
    "    Drops the rows which has null values.\n",
    "\n",
    "    Parameters\n",
    "    ----------\n",
    "    data : dataframe\n",
    "\n",
    "    null_threshold : numeric\n",
    "        numeric value describing the amount of null values that can be present.\n",
    "\n",
    "    Returns\n",
    "    -------\n",
    "    data : dataframe\n",
    "        an updated dataframe after performing all the opertaions.\n",
    "    \"\"\"\n",
    "\n",
    "    df.drop(columns=['Date'], axis=1, inplace=True)\n",
    "    total = df.shape[0]\n",
    "    for col in df.columns:\n",
    "        if null_threshold * total / 100 < df[col].isnull().sum():\n",
    "            df.drop(columns=[col], axis=1, inplace=True)\n",
    "    df.replace([np.inf, -np.inf], np.nan, inplace=True)\n",
    "    df.dropna(axis=0, inplace=True)\n",
    "    return df"
   ]
  },
  {
   "cell_type": "code",
   "execution_count": null,
   "id": "blind-internet",
   "metadata": {
    "execution": {
     "iopub.execute_input": "2021-05-03T14:39:33.255478Z",
     "iopub.status.busy": "2021-05-03T14:39:33.254769Z",
     "iopub.status.idle": "2021-05-03T14:39:33.260881Z",
     "shell.execute_reply": "2021-05-03T14:39:33.260213Z"
    },
    "papermill": {
     "duration": 0.020967,
     "end_time": "2021-05-03T14:39:33.261020",
     "exception": false,
     "start_time": "2021-05-03T14:39:33.240053",
     "status": "completed"
    },
    "tags": []
   },
   "outputs": [],
   "source": [
    "def error_metrics(y_true, y_pred):\n",
    "    rmse = metrics.mean_squared_error(y_true, y_pred) ** 0.5\n",
    "    mae = metrics.mean_absolute_error(y_true, y_pred)\n",
    "    mse = metrics.mean_squared_error(y_true, y_pred)\n",
    "    r2_score = metrics.r2_score(y_true, y_pred)\n",
    "    return {\"root_mean_squared_error\": rmse, \"mean_absolute_error\": mae, \"mean_squared_error\": mse,\"r2_score\":r2_score}"
   ]
  },
  {
   "cell_type": "code",
   "execution_count": null,
   "id": "alike-audio",
   "metadata": {
    "execution": {
     "iopub.execute_input": "2021-05-03T14:39:33.288209Z",
     "iopub.status.busy": "2021-05-03T14:39:33.287556Z",
     "iopub.status.idle": "2021-05-03T14:39:33.292488Z",
     "shell.execute_reply": "2021-05-03T14:39:33.292977Z"
    },
    "papermill": {
     "duration": 0.020082,
     "end_time": "2021-05-03T14:39:33.293145",
     "exception": false,
     "start_time": "2021-05-03T14:39:33.273063",
     "status": "completed"
    },
    "tags": []
   },
   "outputs": [],
   "source": [
    "def split_dataset(X,Y,t):\n",
    "    tr = int(len(X)*t)\n",
    "    tt = len(X) - tr\n",
    "    xtr = X[:tr]\n",
    "    xtt = X[tr:tr+tt]\n",
    "    ytr = Y[:tr]\n",
    "    ytt = Y[tr:tr+tt]\n",
    "    return (xtr,xtt,ytr,ytt)"
   ]
  },
  {
   "cell_type": "code",
   "execution_count": null,
   "id": "joint-packaging",
   "metadata": {
    "execution": {
     "iopub.execute_input": "2021-05-03T14:39:33.320452Z",
     "iopub.status.busy": "2021-05-03T14:39:33.319753Z",
     "iopub.status.idle": "2021-05-03T14:39:33.328240Z",
     "shell.execute_reply": "2021-05-03T14:39:33.328806Z"
    },
    "papermill": {
     "duration": 0.023804,
     "end_time": "2021-05-03T14:39:33.328999",
     "exception": false,
     "start_time": "2021-05-03T14:39:33.305195",
     "status": "completed"
    },
    "tags": []
   },
   "outputs": [],
   "source": [
    "def remove_next_columns(df,column):\n",
    "    cols = [col for col in df.columns if \"next\" not in col.lower()]\n",
    "    cols.append(column)\n",
    "    df = df[cols]\n",
    "    return (df, column)\n",
    "\n",
    "def remove_cp_columns(df):\n",
    "    cols = [col for col in df.columns if not col.lower().startswith(\"cp\")]\n",
    "    df = df[cols]\n",
    "    return df\n",
    "\n",
    "def remove_previous_columns(df,column):\n",
    "    cols = [col for col in df.columns if not col.lower().startswith(\"previous\")]\n",
    "    cols.append(column)\n",
    "    df = df[cols]\n",
    "    return df\n",
    "\n",
    "def remove_max_avg_min_columns(df):\n",
    "    cols = [col for col in df.columns if not (col.lower().startswith(\"max\") or col.lower().startswith(\"avg\") or col.lower().startswith(\"min\"))]\n",
    "    df = df[cols]\n",
    "    return df"
   ]
  },
  {
   "cell_type": "code",
   "execution_count": null,
   "id": "isolated-lafayette",
   "metadata": {
    "execution": {
     "iopub.execute_input": "2021-05-03T14:39:33.356686Z",
     "iopub.status.busy": "2021-05-03T14:39:33.355998Z",
     "iopub.status.idle": "2021-05-03T14:39:33.377784Z",
     "shell.execute_reply": "2021-05-03T14:39:33.377209Z"
    },
    "papermill": {
     "duration": 0.036833,
     "end_time": "2021-05-03T14:39:33.378000",
     "exception": false,
     "start_time": "2021-05-03T14:39:33.341167",
     "status": "completed"
    },
    "tags": []
   },
   "outputs": [],
   "source": [
    "def build_lstm(input_shape,optimizer,activation,dropout_rate,neurons,layers):\n",
    "    model = Sequential()\n",
    "    model.add(LSTM(neurons,return_sequences=True,input_shape=input_shape))\n",
    "    model.add(Dropout(dropout_rate))\n",
    "    model.add(LSTM(neurons))\n",
    "    model.add(Dropout(dropout_rate))\n",
    "    for _ in range(layers):\n",
    "        model.add(Dense(neurons))\n",
    "        model.add(Dropout(dropout_rate))\n",
    "    model.add(Dense(units=1,activation = activation))\n",
    "    model.compile(loss='mean_squared_error', optimizer=optimizer, metrics=[\"accuracy\"])\n",
    "    return model\n",
    "\n",
    "def split_dataset(X,Y,t):\n",
    "    tr = int(len(X)*t)\n",
    "    tt = len(X) - tr\n",
    "    xtr = X[:tr]\n",
    "    xtt = X[tr:tr+tt]\n",
    "    ytr = Y[:tr]\n",
    "    ytt = Y[tr:tr+tt]\n",
    "    return (xtr,xtt,ytr,ytt)\n",
    "\n",
    "def reshape_data(x_train, x_test, y_train, y_test,units = 30):\n",
    "    my_x_train = list()\n",
    "    my_y_train = list()\n",
    "    my_x_test = list()\n",
    "    my_y_test = list()\n",
    "    for i in range(x_train.shape[0]-units):\n",
    "        my_x_train.append(x_train.iloc[i:i+units,:])\n",
    "        my_y_train.append(y_train.iloc[i+units,])\n",
    "    \n",
    "    my_x_train = np.array(my_x_train)\n",
    "    my_x_train = np.reshape(my_x_train,(my_x_train.shape[0],my_x_train.shape[1],my_x_train.shape[2]))\n",
    "    \n",
    "    my_y_train = np.array(my_y_train)\n",
    "    my_y_train = np.reshape(my_y_train,(my_y_train.shape[0],1))\n",
    "    \n",
    "    for i in range(x_test.shape[0]-units):\n",
    "        my_x_test.append(x_test.iloc[i:i+units,:])\n",
    "        my_y_test.append(y_test.iloc[i+units,])\n",
    "        \n",
    "    my_x_test = np.array(my_x_test)\n",
    "    my_x_test = np.reshape(my_x_test,(my_x_test.shape[0],my_x_test.shape[1],my_x_test.shape[2]))\n",
    "    \n",
    "    my_y_test = np.array(my_y_test)\n",
    "    my_y_test = np.reshape(my_y_test,(my_y_test.shape[0],1))\n",
    "    \n",
    "    return (my_x_train, my_x_test, my_y_train, my_y_test)\n",
    "\n",
    "def rnnregression(df,column):\n",
    "    \n",
    "    X = df.drop(columns=[column])\n",
    "    Y = df[column]\n",
    "    X_train, X_test, Y_train, Y_test = split_dataset(X, Y,0.70)\n",
    "    X_train, X_test, Y_train, Y_test = reshape_data(X_train, X_test, Y_train, Y_test,units = 30)\n",
    "    \n",
    "    input_shape = X_train.shape[1],X_train.shape[2]\n",
    "    model = build_lstm(input_shape,\"adam\",'relu',0.2,32,2)\n",
    "    model.fit(X_train,Y_train,epochs=25,batch_size=32,verbose=0)\n",
    "    Y_pred = model.predict(X_test)\n",
    "    \n",
    "    result = {}\n",
    "    result = error_metrics(Y_test, Y_pred)\n",
    "    result.update({\"actual\":[i[0] for i in Y_test]})\n",
    "    result.update({\"predicted\":[i[0] for i in Y_pred]})\n",
    "    return result"
   ]
  },
  {
   "cell_type": "code",
   "execution_count": null,
   "id": "bright-crisis",
   "metadata": {
    "execution": {
     "iopub.execute_input": "2021-05-03T14:39:33.412339Z",
     "iopub.status.busy": "2021-05-03T14:39:33.411631Z",
     "iopub.status.idle": "2021-05-03T14:39:33.414696Z",
     "shell.execute_reply": "2021-05-03T14:39:33.414161Z"
    },
    "papermill": {
     "duration": 0.024533,
     "end_time": "2021-05-03T14:39:33.414828",
     "exception": false,
     "start_time": "2021-05-03T14:39:33.390295",
     "status": "completed"
    },
    "tags": []
   },
   "outputs": [],
   "source": [
    "def run_linear(X_train, X_test, Y_train, Y_test,num,col):\n",
    "    linear_pipeline = Pipeline([(\"feature_selection\",SequentialFeatureSelector(LinearRegression(),n_jobs=None,n_features_to_select=num)),(\"linear_regression\",LinearRegression())])\n",
    "    linear_pipeline.fit(X_train,Y_train)\n",
    "    Y_pred = linear_pipeline.predict(X_test)\n",
    "    result = error_metrics(Y_test,Y_pred)\n",
    "    selected_features = X_train.columns[linear_pipeline[\"feature_selection\"].get_support()].tolist()\n",
    "    result.update({\"selected_features\":selected_features})\n",
    "    result.update({\"numoffeatures\":len(selected_features)})\n",
    "    result.update({\"predicted_column\":col})\n",
    "    result.update({\"model\":\"linear\"})\n",
    "    result.update({\"actual\":Y_test.values.tolist()})\n",
    "    result.update({\"predicted\":Y_pred.tolist()})\n",
    "    return result"
   ]
  },
  {
   "cell_type": "code",
   "execution_count": null,
   "id": "dietary-coverage",
   "metadata": {
    "execution": {
     "iopub.execute_input": "2021-05-03T14:39:33.443719Z",
     "iopub.status.busy": "2021-05-03T14:39:33.442975Z",
     "iopub.status.idle": "2021-05-03T14:39:33.450638Z",
     "shell.execute_reply": "2021-05-03T14:39:33.451145Z"
    },
    "papermill": {
     "duration": 0.023711,
     "end_time": "2021-05-03T14:39:33.451333",
     "exception": false,
     "start_time": "2021-05-03T14:39:33.427622",
     "status": "completed"
    },
    "tags": []
   },
   "outputs": [],
   "source": [
    "def run_knn(X_train, X_test, Y_train, Y_test,num,col):\n",
    "    knn_pipeline = Pipeline([(\"feature_selection\",SequentialFeatureSelector(KNeighborsRegressor(),n_jobs=-1,n_features_to_select=num)),(\"knn_regression\",KNeighborsRegressor())])\n",
    "    knn_pipeline.fit(X_train,Y_train)\n",
    "    Y_pred = knn_pipeline.predict(X_test)\n",
    "    result = error_metrics(Y_test,Y_pred)\n",
    "    selected_features = X_train.columns[knn_pipeline[\"feature_selection\"].get_support()].tolist()\n",
    "    result.update({\"selected_features\":selected_features})\n",
    "    result.update({\"numoffeatures\":len(selected_features)})\n",
    "    result.update({\"predicted_column\":col})\n",
    "    result.update({\"model\":\"knn\"})\n",
    "    result.update({\"actual\":Y_test.values.tolist()})\n",
    "    result.update({\"predicted\":Y_pred.tolist()})\n",
    "    return result"
   ]
  },
  {
   "cell_type": "code",
   "execution_count": null,
   "id": "nervous-point",
   "metadata": {
    "execution": {
     "iopub.execute_input": "2021-05-03T14:39:33.480083Z",
     "iopub.status.busy": "2021-05-03T14:39:33.479409Z",
     "iopub.status.idle": "2021-05-03T14:39:33.487419Z",
     "shell.execute_reply": "2021-05-03T14:39:33.487898Z"
    },
    "papermill": {
     "duration": 0.023976,
     "end_time": "2021-05-03T14:39:33.488082",
     "exception": false,
     "start_time": "2021-05-03T14:39:33.464106",
     "status": "completed"
    },
    "tags": []
   },
   "outputs": [],
   "source": [
    "def run_svr(X_train, X_test, Y_train, Y_test,num,col):\n",
    "    knn_pipeline = Pipeline([(\"feature_selection\",SequentialFeatureSelector(SVR(),n_jobs=-1,n_features_to_select=num)),(\"knn_regression\",SVR())])\n",
    "    knn_pipeline.fit(X_train,Y_train)\n",
    "    Y_pred = knn_pipeline.predict(X_test)\n",
    "    result = error_metrics(Y_test,Y_pred)\n",
    "    selected_features = X_train.columns[knn_pipeline[\"feature_selection\"].get_support()].tolist()\n",
    "    result.update({\"selected_features\":selected_features})\n",
    "    result.update({\"numoffeatures\":len(selected_features)})\n",
    "    result.update({\"predicted_column\":col})\n",
    "    result.update({\"model\":\"svr\"})\n",
    "    result.update({\"actual\":Y_test.values.tolist()})\n",
    "    result.update({\"predicted\":Y_pred.tolist()})\n",
    "    return result"
   ]
  },
  {
   "cell_type": "code",
   "execution_count": null,
   "id": "behind-grill",
   "metadata": {
    "execution": {
     "iopub.execute_input": "2021-05-03T14:39:33.517254Z",
     "iopub.status.busy": "2021-05-03T14:39:33.516591Z",
     "iopub.status.idle": "2021-05-03T14:39:33.526501Z",
     "shell.execute_reply": "2021-05-03T14:39:33.527021Z"
    },
    "papermill": {
     "duration": 0.026204,
     "end_time": "2021-05-03T14:39:33.527188",
     "exception": false,
     "start_time": "2021-05-03T14:39:33.500984",
     "status": "completed"
    },
    "tags": []
   },
   "outputs": [],
   "source": [
    "def run_models(df,col):\n",
    "    ref = df.copy()\n",
    "    days = int(re.findall(r\"\\d+\",col)[0])\n",
    "    print(col,days)\n",
    "    start = df['Date'].iloc[0] + datetime.timedelta(days = days)\n",
    "    end = df['Date'].iloc[-1] - datetime.timedelta(days = days)\n",
    "    df  = df[df.Date.between(start,end)]\n",
    "    df = pre_process_data(df, 60)\n",
    "    df[df.columns] = (df[df.columns].astype(str)).apply(pd.to_numeric, errors='coerce')\n",
    "    df,column = remove_next_columns(df,col)\n",
    "    X = df.drop(columns=[column])\n",
    "    Y = df[column]\n",
    "    X_train, X_test, Y_train, Y_test = split_dataset(X, Y,0.70)\n",
    "    num = 0.33\n",
    "    result = []\n",
    "    linres = run_linear(X_train, X_test, Y_train, Y_test,num,column)\n",
    "    linres.update({\"close\":ref.loc[X_test.index]['Close Price'].values.tolist()})\n",
    "    linres.update({\"date\":ref.loc[X_test.index]['Date'].apply(lambda row : row.strftime('%Y-%m-%d')).values.tolist()})\n",
    "\n",
    "    knnres = run_knn(X_train, X_test, Y_train, Y_test,num,column)\n",
    "    knnres.update({\"close\":ref.loc[X_test.index]['Close Price'].values.tolist()})\n",
    "    knnres.update({\"date\":ref.loc[X_test.index]['Date'].apply(lambda row : row.strftime('%Y-%m-%d')).values.tolist()})\n",
    "\n",
    "    svrres = run_svr(X_train, X_test, Y_train, Y_test,num,column)\n",
    "    svrres = run_knn(X_train, X_test, Y_train, Y_test,num,column)\n",
    "    svrres.update({\"close\":ref.loc[X_test.index]['Close Price'].values.tolist()})\n",
    "    svrres.update({\"date\":ref.loc[X_test.index]['Date'].apply(lambda row : row.strftime('%Y-%m-%d')).values.tolist()})\n",
    "\n",
    "    result.append(linres)\n",
    "    result.append(knnres)\n",
    "    result.append(svrres)\n",
    "    return result"
   ]
  },
  {
   "cell_type": "code",
   "execution_count": null,
   "id": "permanent-wallpaper",
   "metadata": {
    "execution": {
     "iopub.execute_input": "2021-05-03T14:39:33.559741Z",
     "iopub.status.busy": "2021-05-03T14:39:33.558908Z",
     "iopub.status.idle": "2021-05-03T14:39:33.567331Z",
     "shell.execute_reply": "2021-05-03T14:39:33.567851Z"
    },
    "papermill": {
     "duration": 0.026378,
     "end_time": "2021-05-03T14:39:33.568026",
     "exception": false,
     "start_time": "2021-05-03T14:39:33.541648",
     "status": "completed"
    },
    "tags": []
   },
   "outputs": [],
   "source": [
    "necessary_columns = [\"Date\",\"Close Price\",\"Previous 360 days UB\",\"Min Inc % in 180 days\",\"Next 60 days LB\",\"Previous 720 days UB\",\"No. of Trades GR\",\"CP % LV 180 days\",\"Max Inc % in 180 days\",\"Next 1080 days LB\",\"CP % BA 180 days\",\"Next Day Low Price GR\",\"Max Dec % in 90 days\",\"Expenditure GR\",\"CP % HV 90 days\",\"Min Dec % in 365 days\",\"Max Dec % in 365 days\",\"CP % HV 7 days\",\"CP % BA 7 days\",\"Avg Inc % in 365 days\",\"Min Inc % in 90 days\",\"Avg Inc % in 180 days\",\"Total Turnover (Rs.) GR\",\"Low Price GR\",\"Previous 1080 days UB\",\"CP % HV 180 days\",\"Next 180 days UB\",\"No.of Shares GR\",\"Previous 60 days UB\",\"CP % BA 90 days\",\"Avg Inc % in 90 days\",\"Sequential Increase %\",\"WAP GR\",\"CP % BA 30 days\",\"Avg Dec % in 180 days\",\"Previous 720 days LB\",\"EPS GR\",\"Deliverable Quantity GR\",\"Next 360 days UB\",\"CP % HV 365 days\",\"Spread Close-Open GR\",\"Min Dec % in 180 days\",\"Next 30 days LB\",\"Sequential Increase\",\"Previous 360 days LB\",\"Alpha GR\",\"CP % LV 365 days\",\"Dividend Value GR\",\"Sequential Decrease\",\"Next 360 days LB\",\"Avg Dec % in 365 days\",\"Net Profit GR\",\"CP % LV 7 days\",\"CP % HV 30 days\",\"% Deli. Qty to Traded Qty GR\",\"Min Inc % in 365 days\",\"Sequential Decrease %\",\"Beta GR\",\"Next 30 days UB\",\"High Price GR\",\"Spread High-Low GR\",\"Income GR\",\"Max Dec % in 180 days\",\"Previous 30 days UB\",\"Next 90 days UB\",\"Next 90 days LB\",\"Next 1080 days UB\",\"Open Price GR\",\"Next 720 days LB\",\"Max Inc % in 365 days\",\"Previous 90 days LB\",\"Previous 90 days UB\",\"Next 60 days UB\",\"Avg Dec % in 90 days\",\"Previous 30 days LB\",\"Previous 1080 days LB\",\"Next Day Open Price GR\",\"Next Day High Price GR\",\"CP % BA 365 days\",\"Max Inc % in 90 days\",\"Revenue GR\",\"CP % LV 30 days\",\"Min Dec % in 90 days\",\"Next 180 days LB\",\"Previous 180 days LB\",\"Close Price GR\",\"CP % LV 90 days\",\"Previous 60 days LB\",\"Previous 180 days UB\",\"Next 720 days UB\",\"Next Day Close Price GR\"]\n",
    "columns_to_predict = ['Next 30 days LB','Next 30 days UB','Next 60 days LB','Next 60 days UB','Next 90 days LB','Next 90 days UB','Next 180 days LB','Next 180 days UB','Next 360 days LB','Next 360 days UB','Next 720 days LB','Next 720 days UB','Next 1080 days LB','Next 1080 days UB']"
   ]
  },
  {
   "cell_type": "code",
   "execution_count": null,
   "id": "cordless-alloy",
   "metadata": {
    "execution": {
     "iopub.execute_input": "2021-05-03T14:39:33.597864Z",
     "iopub.status.busy": "2021-05-03T14:39:33.597228Z",
     "iopub.status.idle": "2021-05-03T14:39:33.611624Z",
     "shell.execute_reply": "2021-05-03T14:39:33.612165Z"
    },
    "papermill": {
     "duration": 0.031222,
     "end_time": "2021-05-03T14:39:33.612364",
     "exception": false,
     "start_time": "2021-05-03T14:39:33.581142",
     "status": "completed"
    },
    "tags": []
   },
   "outputs": [],
   "source": [
    "security_codes = [name for name in os.listdir(\"../input/newdss\")]\n",
    "security_codes.sort()"
   ]
  },
  {
   "cell_type": "code",
   "execution_count": null,
   "id": "apart-mentor",
   "metadata": {
    "execution": {
     "iopub.execute_input": "2021-05-03T14:39:33.643239Z",
     "iopub.status.busy": "2021-05-03T14:39:33.642603Z",
     "iopub.status.idle": "2021-05-03T17:31:24.399832Z",
     "shell.execute_reply": "2021-05-03T17:31:24.400425Z"
    },
    "papermill": {
     "duration": 10310.774699,
     "end_time": "2021-05-03T17:31:24.400614",
     "exception": false,
     "start_time": "2021-05-03T14:39:33.625915",
     "status": "completed"
    },
    "tags": []
   },
   "outputs": [],
   "source": [
    "%%time\n",
    "for name in security_codes:\n",
    "    try:\n",
    "        print(name)\n",
    "        df = pd.read_csv(\"../input/newdss/\" + name)\n",
    "        df = df.iloc[::-1].reset_index(drop=True)\n",
    "        df['Date'] = pd.to_datetime(df['Date'])\n",
    "        df = df[necessary_columns]\n",
    "        pool = ThreadPool(multiprocessing.cpu_count())\n",
    "        combs = list(zip([df]*len(columns_to_predict),columns_to_predict))\n",
    "        result = pool.starmap(run_models,combs)\n",
    "        resultdf = pd.DataFrame(result)\n",
    "        resultdf.to_csv(name[2:],index=None)\n",
    "    except:\n",
    "        traceback.print_exc()\n"
   ]
  },
  {
   "cell_type": "code",
   "execution_count": null,
   "metadata": {},
   "outputs": [],
   "source": []
  }
 ],
 "metadata": {
  "kernelspec": {
   "name": "python394jvsc74a57bd0d87dce8391821cf63a3c66fecb51d752844feaef4dc8e3007d3ff39793894683",
   "display_name": "Python 3.9.4 64-bit"
  },
  "language_info": {
   "codemirror_mode": {
    "name": "ipython",
    "version": 3
   },
   "file_extension": ".py",
   "mimetype": "text/x-python",
   "name": "python",
   "nbconvert_exporter": "python",
   "pygments_lexer": "ipython3",
   "version": "3.9.4"
  },
  "papermill": {
   "default_parameters": {},
   "duration": 10332.747223,
   "end_time": "2021-05-03T17:31:28.525641",
   "environment_variables": {},
   "exception": null,
   "input_path": "__notebook__.ipynb",
   "output_path": "__notebook__.ipynb",
   "parameters": {},
   "start_time": "2021-05-03T14:39:15.778418",
   "version": "2.3.3"
  }
 },
 "nbformat": 4,
 "nbformat_minor": 5
}